{
 "cells": [
  {
   "cell_type": "markdown",
   "metadata": {},
   "source": [
    "# Theorem 10.5.2 for Truncated Normal Distribution"
   ]
  },
  {
   "cell_type": "markdown",
   "metadata": {},
   "source": [
    "## General Normal Distribution"
   ]
  },
  {
   "cell_type": "code",
   "execution_count": 5,
   "metadata": {},
   "outputs": [],
   "source": [
    "from sympy import *\n",
    "t = Symbol('t')\n",
    "x = Symbol('x')\n",
    "m = Symbol('mu')\n",
    "s = Symbol('sigma')\n",
    "\n",
    "def nPDF(x,mu,sigma):\n",
    "  return((exp(-(x-mu)**2/(2*sigma**2))/(sigma*sqrt(2*pi))))\n",
    "def nCDF(x,mu,sigma):\n",
    "  return(integrate(nPDF(t,mu,sigma),(t,-oo,x)))"
   ]
  },
  {
   "cell_type": "markdown",
   "metadata": {},
   "source": [
    "## Truncated Normal Disctribution in (0,1)"
   ]
  },
  {
   "cell_type": "code",
   "execution_count": 6,
   "metadata": {},
   "outputs": [],
   "source": [
    "def PDF(x,mu,sigma):\n",
    "  return(Piecewise(\n",
    "  (0,(x<=0)),\n",
    "  (nPDF(x,mu,sigma)/(nCDF(1,mu,sigma)-nCDF(0,mu,sigma)),(x<1)),\n",
    "  (0,(x>=1))))\n",
    "def CDF(x,mu,sigma):\n",
    "  return(integrate(PDF(t,mu,sigma),(t,0,x)))"
   ]
  },
  {
   "cell_type": "markdown",
   "metadata": {},
   "source": [
    "## Calculate the function in the interval"
   ]
  },
  {
   "cell_type": "code",
   "execution_count": 10,
   "metadata": {},
   "outputs": [],
   "source": [
    "import numpy as np\n",
    "\n",
    "mu = 0.2\n",
    "sigma = 0.1\n",
    "X = np.linspace(0,1,50)\n",
    "Y = []\n",
    "for xx in X:\n",
    "  Y.append(diff(((1-CDF(x,mu,sigma))/PDF(x,mu,sigma)),x).subs(x,xx))"
   ]
  },
  {
   "cell_type": "code",
   "execution_count": 13,
   "metadata": {},
   "outputs": [
    {
     "data": {
      "image/png": "[encoded data removed]",
      "text/plain": [
       "<Figure size 500x300 with 1 Axes>"
      ]
     },
     "metadata": {},
     "output_type": "display_data"
    }
   ],
   "source": [
    "import matplotlib.pyplot as plt\n",
    "import matplotlib\n",
    "\n",
    "matplotlib.rcParams['mathtext.fontset'] = 'cm'\n",
    "matplotlib.rcParams['font.family'] = 'STIXGeneral'\n",
    "\n",
    "plt.figure(figsize=(5,3))\n",
    "\n",
    "plt.plot(X[1:49],Y[1:49],color='#800026')\n",
    "\n",
    "plt.xticks(fontsize=12)\n",
    "plt.yticks(fontsize=12)\n",
    "plt.xlabel(r'$x$', fontsize=12)\n",
    "plt.ylabel(r'$\\frac{d}{dx} \\left[ \\frac{1-\\Psi(x)}{\\psi(x)} \\right]$', fontsize=12)\n",
    "plt.savefig('Thesis_MS_ScientificComputing_FlorezCoronel_JuanE/images/th1052_gumbel_verify.png', transparent=True, bbox_inches = 'tight',dpi=1000)"
   ]
  },
  {
   "cell_type": "code",
   "execution_count": null,
   "metadata": {},
   "outputs": [],
   "source": []
  }
 ],
 "metadata": {
  "kernelspec": {
   "display_name": "Python 3",
   "language": "python",
   "name": "python3"
  },
  "language_info": {
   "codemirror_mode": {
    "name": "ipython",
    "version": 3
   },
   "file_extension": ".py",
   "mimetype": "text/x-python",
   "name": "python",
   "nbconvert_exporter": "python",
   "pygments_lexer": "ipython3",
   "version": "3.12.2"
  }
 },
 "nbformat": 4,
 "nbformat_minor": 2
}
