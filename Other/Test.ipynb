{
 "cells": [
  {
   "cell_type": "markdown",
   "metadata": {},
   "source": [
    "# Load Data"
   ]
  },
  {
   "cell_type": "code",
   "execution_count": 3,
   "metadata": {},
   "outputs": [
    {
     "data": {
      "text/plain": [
       "<nibabel.nifti1.Nifti1Image at 0x10748c700>"
      ]
     },
     "execution_count": 3,
     "metadata": {},
     "output_type": "execute_result"
    }
   ],
   "source": [
    "import nibabel as nib\n",
    "data1 = nib.load('Data/sub-01_task-theoryofmindwithmanualresponse_run-01_bold.nii.gz')\n",
    "data1"
   ]
  },
  {
   "cell_type": "markdown",
   "metadata": {},
   "source": [
    "# Read Time Series"
   ]
  },
  {
   "cell_type": "code",
   "execution_count": 4,
   "metadata": {},
   "outputs": [
    {
     "data": {
      "text/plain": [
       "array([[1014.],\n",
       "       [1024.],\n",
       "       [1058.],\n",
       "       [1029.],\n",
       "       [1038.],\n",
       "       [1039.],\n",
       "       [1013.],\n",
       "       [1033.],\n",
       "       [1031.],\n",
       "       [1044.],\n",
       "       [1041.],\n",
       "       [1054.],\n",
       "       [1054.],\n",
       "       [1031.],\n",
       "       [1038.],\n",
       "       [1048.],\n",
       "       [1026.],\n",
       "       [1036.],\n",
       "       [1038.],\n",
       "       [1017.],\n",
       "       [1039.],\n",
       "       [1044.],\n",
       "       [1029.],\n",
       "       [1041.],\n",
       "       [1047.],\n",
       "       [1043.],\n",
       "       [1021.],\n",
       "       [1057.],\n",
       "       [1036.],\n",
       "       [1024.],\n",
       "       [1040.],\n",
       "       [1054.],\n",
       "       [1029.],\n",
       "       [1042.],\n",
       "       [1040.],\n",
       "       [1023.],\n",
       "       [1032.],\n",
       "       [1042.],\n",
       "       [1040.],\n",
       "       [1036.],\n",
       "       [1017.],\n",
       "       [1049.],\n",
       "       [1027.],\n",
       "       [1032.],\n",
       "       [1021.],\n",
       "       [1020.],\n",
       "       [1038.],\n",
       "       [1029.],\n",
       "       [1032.],\n",
       "       [1022.],\n",
       "       [1023.],\n",
       "       [1025.],\n",
       "       [1011.],\n",
       "       [1027.],\n",
       "       [1033.],\n",
       "       [1004.],\n",
       "       [1026.],\n",
       "       [1019.],\n",
       "       [1032.],\n",
       "       [1049.],\n",
       "       [1021.],\n",
       "       [1031.],\n",
       "       [1041.],\n",
       "       [1041.],\n",
       "       [1033.],\n",
       "       [1033.],\n",
       "       [1022.],\n",
       "       [1052.],\n",
       "       [1039.],\n",
       "       [1046.],\n",
       "       [1053.],\n",
       "       [1014.],\n",
       "       [1008.],\n",
       "       [1033.],\n",
       "       [1041.],\n",
       "       [1040.],\n",
       "       [1019.],\n",
       "       [1051.],\n",
       "       [1036.],\n",
       "       [1042.],\n",
       "       [1037.],\n",
       "       [1047.],\n",
       "       [1027.],\n",
       "       [1021.],\n",
       "       [1031.],\n",
       "       [1059.],\n",
       "       [1034.],\n",
       "       [1029.],\n",
       "       [1049.],\n",
       "       [1049.],\n",
       "       [1047.],\n",
       "       [1024.],\n",
       "       [1063.],\n",
       "       [1059.],\n",
       "       [1058.],\n",
       "       [1049.],\n",
       "       [1035.],\n",
       "       [1023.],\n",
       "       [1058.],\n",
       "       [1055.],\n",
       "       [1045.],\n",
       "       [1046.],\n",
       "       [1051.],\n",
       "       [1065.],\n",
       "       [1055.],\n",
       "       [1054.],\n",
       "       [1048.],\n",
       "       [1023.],\n",
       "       [1050.],\n",
       "       [1043.],\n",
       "       [1038.],\n",
       "       [1050.],\n",
       "       [1056.],\n",
       "       [1052.],\n",
       "       [1047.],\n",
       "       [1059.],\n",
       "       [1064.],\n",
       "       [1038.],\n",
       "       [1053.],\n",
       "       [1023.],\n",
       "       [1052.],\n",
       "       [1052.],\n",
       "       [1039.],\n",
       "       [1041.],\n",
       "       [1043.],\n",
       "       [1061.],\n",
       "       [1048.],\n",
       "       [1042.],\n",
       "       [1034.],\n",
       "       [1058.],\n",
       "       [1054.],\n",
       "       [1029.],\n",
       "       [1072.],\n",
       "       [1058.],\n",
       "       [1045.],\n",
       "       [1060.],\n",
       "       [1068.],\n",
       "       [1045.],\n",
       "       [1051.],\n",
       "       [1037.],\n",
       "       [1058.],\n",
       "       [1035.],\n",
       "       [1021.],\n",
       "       [1049.],\n",
       "       [1046.],\n",
       "       [1031.],\n",
       "       [1052.],\n",
       "       [1029.],\n",
       "       [1049.],\n",
       "       [1057.],\n",
       "       [1032.],\n",
       "       [1053.],\n",
       "       [1045.],\n",
       "       [1065.],\n",
       "       [1055.],\n",
       "       [1068.],\n",
       "       [1066.],\n",
       "       [1035.],\n",
       "       [1050.],\n",
       "       [1044.],\n",
       "       [1042.],\n",
       "       [1038.],\n",
       "       [1028.],\n",
       "       [1039.],\n",
       "       [1024.],\n",
       "       [1032.],\n",
       "       [1041.],\n",
       "       [1031.],\n",
       "       [1040.],\n",
       "       [1034.],\n",
       "       [1019.],\n",
       "       [1029.],\n",
       "       [1023.],\n",
       "       [1011.],\n",
       "       [1015.],\n",
       "       [1016.],\n",
       "       [1033.],\n",
       "       [ 993.],\n",
       "       [1017.]])"
      ]
     },
     "execution_count": 4,
     "metadata": {},
     "output_type": "execute_result"
    }
   ],
   "source": [
    "import readBoldData as rbd\n",
    "y_i = rbd.voxelTimeSeries(data1,20,20,20)\n",
    "y_i"
   ]
  },
  {
   "cell_type": "markdown",
   "metadata": {},
   "source": [
    "# Create mask"
   ]
  },
  {
   "cell_type": "code",
   "execution_count": 5,
   "metadata": {},
   "outputs": [
    {
     "data": {
      "text/plain": [
       "<nilearn.plotting.displays._slicers.OrthoSlicer at 0x292662d90>"
      ]
     },
     "execution_count": 5,
     "metadata": {},
     "output_type": "execute_result"
    },
    {
     "data": {
      "image/png": "[encoded data removed]",
      "text/plain": [
       "<Figure size 660x260 with 4 Axes>"
      ]
     },
     "metadata": {},
     "output_type": "display_data"
    }
   ],
   "source": [
    "from nilearn.masking import compute_epi_mask\n",
    "from nilearn.plotting import plot_roi\n",
    "from nilearn.image.image import mean_img\n",
    "mean_haxby = mean_img(data1)\n",
    "mask_img = compute_epi_mask(data1, connected=False)\n",
    "plot_roi(mask_img,mean_haxby)"
   ]
  },
  {
   "cell_type": "code",
   "execution_count": 6,
   "metadata": {},
   "outputs": [
    {
     "data": {
      "text/plain": [
       "(179, 40078)"
      ]
     },
     "execution_count": 6,
     "metadata": {},
     "output_type": "execute_result"
    }
   ],
   "source": [
    "from nilearn.masking import apply_mask\n",
    "masked_data = apply_mask(data1, mask_img)\n",
    "masked_data.shape"
   ]
  },
  {
   "cell_type": "markdown",
   "metadata": {},
   "source": [
    "# Create Design Matrix"
   ]
  },
  {
   "cell_type": "code",
   "execution_count": 27,
   "metadata": {},
   "outputs": [
    {
     "data": {
      "text/html": [
       "<div>\n",
       "<style scoped>\n",
       "    .dataframe tbody tr th:only-of-type {\n",
       "        vertical-align: middle;\n",
       "    }\n",
       "\n",
       "    .dataframe tbody tr th {\n",
       "        vertical-align: top;\n",
       "    }\n",
       "\n",
       "    .dataframe thead th {\n",
       "        text-align: right;\n",
       "    }\n",
       "</style>\n",
       "<table border=\"1\" class=\"dataframe\">\n",
       "  <thead>\n",
       "    <tr style=\"text-align: right;\">\n",
       "      <th></th>\n",
       "      <th>onset</th>\n",
       "      <th>duration</th>\n",
       "      <th>trial_type</th>\n",
       "      <th>ConditionCode</th>\n",
       "      <th>CorrectAnswerCode</th>\n",
       "      <th>KeyPressed</th>\n",
       "      <th>ResponseTime</th>\n",
       "      <th>StoryCode</th>\n",
       "    </tr>\n",
       "  </thead>\n",
       "  <tbody>\n",
       "    <tr>\n",
       "      <th>0</th>\n",
       "      <td>0.0</td>\n",
       "      <td>2.0</td>\n",
       "      <td>NaN</td>\n",
       "      <td>0.0</td>\n",
       "      <td>0.0</td>\n",
       "      <td>46.0</td>\n",
       "      <td>1.980</td>\n",
       "      <td>0.0</td>\n",
       "    </tr>\n",
       "    <tr>\n",
       "      <th>1</th>\n",
       "      <td>2.0</td>\n",
       "      <td>2.0</td>\n",
       "      <td>NaN</td>\n",
       "      <td>0.0</td>\n",
       "      <td>0.0</td>\n",
       "      <td>46.0</td>\n",
       "      <td>1.992</td>\n",
       "      <td>0.0</td>\n",
       "    </tr>\n",
       "    <tr>\n",
       "      <th>2</th>\n",
       "      <td>4.0</td>\n",
       "      <td>2.0</td>\n",
       "      <td>NaN</td>\n",
       "      <td>0.0</td>\n",
       "      <td>0.0</td>\n",
       "      <td>46.0</td>\n",
       "      <td>1.994</td>\n",
       "      <td>0.0</td>\n",
       "    </tr>\n",
       "    <tr>\n",
       "      <th>3</th>\n",
       "      <td>6.0</td>\n",
       "      <td>2.0</td>\n",
       "      <td>NaN</td>\n",
       "      <td>0.0</td>\n",
       "      <td>0.0</td>\n",
       "      <td>46.0</td>\n",
       "      <td>1.994</td>\n",
       "      <td>0.0</td>\n",
       "    </tr>\n",
       "    <tr>\n",
       "      <th>4</th>\n",
       "      <td>8.0</td>\n",
       "      <td>2.0</td>\n",
       "      <td>NaN</td>\n",
       "      <td>0.0</td>\n",
       "      <td>0.0</td>\n",
       "      <td>46.0</td>\n",
       "      <td>1.993</td>\n",
       "      <td>0.0</td>\n",
       "    </tr>\n",
       "    <tr>\n",
       "      <th>...</th>\n",
       "      <td>...</td>\n",
       "      <td>...</td>\n",
       "      <td>...</td>\n",
       "      <td>...</td>\n",
       "      <td>...</td>\n",
       "      <td>...</td>\n",
       "      <td>...</td>\n",
       "      <td>...</td>\n",
       "    </tr>\n",
       "    <tr>\n",
       "      <th>174</th>\n",
       "      <td>348.0</td>\n",
       "      <td>2.0</td>\n",
       "      <td>NaN</td>\n",
       "      <td>0.0</td>\n",
       "      <td>0.0</td>\n",
       "      <td>46.0</td>\n",
       "      <td>1.985</td>\n",
       "      <td>0.0</td>\n",
       "    </tr>\n",
       "    <tr>\n",
       "      <th>175</th>\n",
       "      <td>350.0</td>\n",
       "      <td>2.0</td>\n",
       "      <td>NaN</td>\n",
       "      <td>0.0</td>\n",
       "      <td>0.0</td>\n",
       "      <td>46.0</td>\n",
       "      <td>1.993</td>\n",
       "      <td>0.0</td>\n",
       "    </tr>\n",
       "    <tr>\n",
       "      <th>176</th>\n",
       "      <td>352.0</td>\n",
       "      <td>2.0</td>\n",
       "      <td>NaN</td>\n",
       "      <td>0.0</td>\n",
       "      <td>0.0</td>\n",
       "      <td>46.0</td>\n",
       "      <td>2.003</td>\n",
       "      <td>0.0</td>\n",
       "    </tr>\n",
       "    <tr>\n",
       "      <th>177</th>\n",
       "      <td>354.0</td>\n",
       "      <td>2.0</td>\n",
       "      <td>NaN</td>\n",
       "      <td>0.0</td>\n",
       "      <td>0.0</td>\n",
       "      <td>46.0</td>\n",
       "      <td>1.995</td>\n",
       "      <td>0.0</td>\n",
       "    </tr>\n",
       "    <tr>\n",
       "      <th>178</th>\n",
       "      <td>356.0</td>\n",
       "      <td>2.0</td>\n",
       "      <td>NaN</td>\n",
       "      <td>0.0</td>\n",
       "      <td>0.0</td>\n",
       "      <td>NaN</td>\n",
       "      <td>2.050</td>\n",
       "      <td>0.0</td>\n",
       "    </tr>\n",
       "  </tbody>\n",
       "</table>\n",
       "<p>179 rows × 8 columns</p>\n",
       "</div>"
      ],
      "text/plain": [
       "     onset  duration trial_type  ConditionCode  CorrectAnswerCode  KeyPressed  \\\n",
       "0      0.0       2.0        NaN            0.0                0.0        46.0   \n",
       "1      2.0       2.0        NaN            0.0                0.0        46.0   \n",
       "2      4.0       2.0        NaN            0.0                0.0        46.0   \n",
       "3      6.0       2.0        NaN            0.0                0.0        46.0   \n",
       "4      8.0       2.0        NaN            0.0                0.0        46.0   \n",
       "..     ...       ...        ...            ...                ...         ...   \n",
       "174  348.0       2.0        NaN            0.0                0.0        46.0   \n",
       "175  350.0       2.0        NaN            0.0                0.0        46.0   \n",
       "176  352.0       2.0        NaN            0.0                0.0        46.0   \n",
       "177  354.0       2.0        NaN            0.0                0.0        46.0   \n",
       "178  356.0       2.0        NaN            0.0                0.0         NaN   \n",
       "\n",
       "     ResponseTime  StoryCode  \n",
       "0           1.980        0.0  \n",
       "1           1.992        0.0  \n",
       "2           1.994        0.0  \n",
       "3           1.994        0.0  \n",
       "4           1.993        0.0  \n",
       "..            ...        ...  \n",
       "174         1.985        0.0  \n",
       "175         1.993        0.0  \n",
       "176         2.003        0.0  \n",
       "177         1.995        0.0  \n",
       "178         2.050        0.0  \n",
       "\n",
       "[179 rows x 8 columns]"
      ]
     },
     "execution_count": 27,
     "metadata": {},
     "output_type": "execute_result"
    }
   ],
   "source": [
    "import pandas as pd\n",
    "\n",
    "events1 = 'Data/sub-01_task-theoryofmindwithmanualresponse_run-01_events.tsv'\n",
    "\n",
    "df_events1 = pd.read_csv(events1,sep='\\t')\n",
    "\n",
    "stim_ev1 = df_events1[df_events1['trial_type'].notnull()]\n",
    "df_ev1 = df_events1[df_events1['trial_type'].isnull()].reset_index(drop=True)\n",
    "for r in range(len(stim_ev1)):\n",
    "  df_ev1.at[int(stim_ev1.iloc[r,0]/2),'duration'] = stim_ev1.iloc[r,:]['duration']\n",
    "  df_ev1.at[int(stim_ev1.iloc[r,0]/2),'trial_type'] = stim_ev1.iloc[r,:]['trial_type']\n",
    "\n",
    "df_ev1"
   ]
  },
  {
   "cell_type": "code",
   "execution_count": 28,
   "metadata": {},
   "outputs": [
    {
     "name": "stderr",
     "output_type": "stream",
     "text": [
      "/Users/juanesfco/Library/Python/3.9/lib/python/site-packages/nilearn/glm/first_level/experimental_paradigm.py:120: UserWarning: Duplicated events were detected. Amplitudes of these events will be summed. You might want to verify your inputs.\n",
      "  warnings.warn(\n"
     ]
    },
    {
     "data": {
      "text/plain": [
       "<Axes: label='conditions', ylabel='scan number'>"
      ]
     },
     "execution_count": 28,
     "metadata": {},
     "output_type": "execute_result"
    },
    {
     "data": {
      "image/png": "[encoded data removed]",
      "text/plain": [
       "<Figure size 800x600 with 1 Axes>"
      ]
     },
     "metadata": {},
     "output_type": "display_data"
    }
   ],
   "source": [
    "import numpy as np\n",
    "from nilearn.glm.first_level import make_first_level_design_matrix\n",
    "from nilearn.plotting import plot_design_matrix\n",
    "import matplotlib.pyplot as plt\n",
    "\n",
    "tr = 2.0  # repetition time is 2 seconds\n",
    "n_scans = 179  # the acquisition comprises 179 scans\n",
    "frame_times = np.arange(n_scans) * tr\n",
    "\n",
    "conditions = df_ev1['trial_type']\n",
    "duration = df_ev1['duration']\n",
    "onsets = df_ev1['onset']\n",
    "\n",
    "events = pd.DataFrame({'trial_type': conditions, 'onset': onsets, 'duration': duration})\n",
    "\n",
    "X1 = make_first_level_design_matrix(frame_times, events)\n",
    "\n",
    "fig, ax = plt.subplots(figsize=(8, 6))\n",
    "plot_design_matrix(X1, ax=ax)"
   ]
  },
  {
   "cell_type": "markdown",
   "metadata": {},
   "source": [
    "# Finding SNR"
   ]
  },
  {
   "cell_type": "code",
   "execution_count": 29,
   "metadata": {},
   "outputs": [
    {
     "data": {
      "text/plain": [
       "array([2.96071512, 2.8899586 , 3.22663349, 3.19823999, 2.91657249,\n",
       "       4.58319302, 3.48164891, 3.75022387, 2.68932846, 2.91409403,\n",
       "       4.16812115, 3.07964486, 3.89948659, 3.42928664, 3.15250453,\n",
       "       3.51522684, 2.75949646, 4.29111658, 4.80890991, 3.73342995,\n",
       "       2.91734022, 5.15583068, 4.91840309, 3.08426234, 2.57535102,\n",
       "       3.75412892, 3.20097205, 3.47645597, 4.62272157, 5.19285199,\n",
       "       5.70528035, 2.50488188, 2.92478469, 4.9617556 , 3.76051602,\n",
       "       5.07166593, 4.69646453, 5.23165802, 4.78864863, 3.48105565,\n",
       "       3.00340754, 3.8792048 , 4.40024586, 5.18665523, 4.17790766,\n",
       "       1.98154121, 2.53771499, 2.87889442, 4.94996503, 5.07568212,\n",
       "       4.27898708, 3.36314264, 2.59334498, 4.95293485, 2.11695221,\n",
       "       4.63994625, 4.90811473, 4.46003199, 5.154364  , 2.76729889,\n",
       "       3.20271039, 3.93440983, 3.00602236, 3.44499563, 4.56082974,\n",
       "       4.93192196, 2.51763602, 3.04042753, 2.57543977, 2.68649107,\n",
       "       2.03037758, 2.40213162, 3.08216216, 3.46787261, 3.12768701,\n",
       "       3.60889084, 2.79720136, 3.67477359, 5.2609728 , 4.69623149,\n",
       "       4.67137726, 3.29783114, 4.83117504, 5.02579938, 4.22333922,\n",
       "       4.13771237, 4.48482873, 4.68887243, 5.95688339, 3.55760326,\n",
       "       5.97510081, 3.74761765, 3.45886373, 4.44297208, 3.64280595,\n",
       "       3.84653819, 4.52299502, 3.79411122, 3.584905  , 4.54524198])"
      ]
     },
     "execution_count": 29,
     "metadata": {},
     "output_type": "execute_result"
    }
   ],
   "source": [
    "SNR_Image = rbd.SNR(X1,masked_data)\n",
    "SNR_Image"
   ]
  },
  {
   "cell_type": "code",
   "execution_count": 31,
   "metadata": {},
   "outputs": [
    {
     "data": {
      "text/plain": [
       "array([2.91111065, 2.89496503, 3.18526787, 3.11646095, 2.88911301,\n",
       "       4.53657767, 3.52555424, 3.90052947, 2.69819876, 2.82538696])"
      ]
     },
     "execution_count": 31,
     "metadata": {},
     "output_type": "execute_result"
    }
   ],
   "source": [
    "np.load('snr.npy')"
   ]
  },
  {
   "cell_type": "code",
   "execution_count": 1,
   "metadata": {},
   "outputs": [
    {
     "data": {
      "text/plain": [
       "array([2.93557498, 2.91191535, 3.19272896, ..., 3.40254759, 3.2187289 ,\n",
       "       3.05352432])"
      ]
     },
     "execution_count": 1,
     "metadata": {},
     "output_type": "execute_result"
    }
   ],
   "source": [
    "import numpy as np\n",
    "data = np.load('SNR.npy')\n",
    "data"
   ]
  },
  {
   "cell_type": "code",
   "execution_count": 8,
   "metadata": {},
   "outputs": [],
   "source": [
    "from nilearn.masking import unmask\n",
    "\n",
    "data_unmasked = unmask(data, mask_img)"
   ]
  },
  {
   "cell_type": "code",
   "execution_count": 11,
   "metadata": {},
   "outputs": [
    {
     "data": {
      "text/plain": [
       "<nilearn.plotting.displays._slicers.OrthoSlicer at 0x11828c6d0>"
      ]
     },
     "execution_count": 11,
     "metadata": {},
     "output_type": "execute_result"
    },
    {
     "data": {
      "image/png": "[encoded data removed]",
      "text/plain": [
       "<Figure size 730x260 with 5 Axes>"
      ]
     },
     "metadata": {},
     "output_type": "display_data"
    }
   ],
   "source": [
    "from nilearn.plotting import plot_epi\n",
    "\n",
    "plot_epi(data_unmasked, colorbar=True)"
   ]
  },
  {
   "cell_type": "code",
   "execution_count": 12,
   "metadata": {},
   "outputs": [
    {
     "data": {
      "text/plain": [
       "(array([6.2900e+02, 1.9970e+03, 6.4240e+03, 1.4449e+04, 1.1637e+04,\n",
       "        3.8970e+03, 8.6100e+02, 1.5300e+02, 2.4000e+01, 7.0000e+00]),\n",
       " array([ 0.19670655,  1.33556292,  2.47441928,  3.61327564,  4.75213201,\n",
       "         5.89098837,  7.02984473,  8.16870109,  9.30755746, 10.44641382,\n",
       "        11.58527018]),\n",
       " <BarContainer object of 10 artists>)"
      ]
     },
     "execution_count": 12,
     "metadata": {},
     "output_type": "execute_result"
    },
    {
     "data": {
      "image/png": "[encoded data removed]",
      "text/plain": [
       "<Figure size 640x480 with 1 Axes>"
      ]
     },
     "metadata": {},
     "output_type": "display_data"
    }
   ],
   "source": [
    "import matplotlib.pyplot as plt\n",
    "plt.hist(data)"
   ]
  },
  {
   "cell_type": "code",
   "execution_count": 7,
   "metadata": {},
   "outputs": [
    {
     "data": {
      "text/html": [
       "<div>\n",
       "<style scoped>\n",
       "    .dataframe tbody tr th:only-of-type {\n",
       "        vertical-align: middle;\n",
       "    }\n",
       "\n",
       "    .dataframe tbody tr th {\n",
       "        vertical-align: top;\n",
       "    }\n",
       "\n",
       "    .dataframe thead th {\n",
       "        text-align: right;\n",
       "    }\n",
       "</style>\n",
       "<table border=\"1\" class=\"dataframe\">\n",
       "  <thead>\n",
       "    <tr style=\"text-align: right;\">\n",
       "      <th></th>\n",
       "      <th>st</th>\n",
       "      <th>constant</th>\n",
       "    </tr>\n",
       "  </thead>\n",
       "  <tbody>\n",
       "    <tr>\n",
       "      <th>0</th>\n",
       "      <td>0.0</td>\n",
       "      <td>1.0</td>\n",
       "    </tr>\n",
       "    <tr>\n",
       "      <th>1</th>\n",
       "      <td>0.0</td>\n",
       "      <td>1.0</td>\n",
       "    </tr>\n",
       "    <tr>\n",
       "      <th>2</th>\n",
       "      <td>0.0</td>\n",
       "      <td>1.0</td>\n",
       "    </tr>\n",
       "    <tr>\n",
       "      <th>3</th>\n",
       "      <td>0.0</td>\n",
       "      <td>1.0</td>\n",
       "    </tr>\n",
       "    <tr>\n",
       "      <th>4</th>\n",
       "      <td>0.0</td>\n",
       "      <td>1.0</td>\n",
       "    </tr>\n",
       "    <tr>\n",
       "      <th>...</th>\n",
       "      <td>...</td>\n",
       "      <td>...</td>\n",
       "    </tr>\n",
       "    <tr>\n",
       "      <th>95</th>\n",
       "      <td>0.0</td>\n",
       "      <td>1.0</td>\n",
       "    </tr>\n",
       "    <tr>\n",
       "      <th>96</th>\n",
       "      <td>0.0</td>\n",
       "      <td>1.0</td>\n",
       "    </tr>\n",
       "    <tr>\n",
       "      <th>97</th>\n",
       "      <td>0.0</td>\n",
       "      <td>1.0</td>\n",
       "    </tr>\n",
       "    <tr>\n",
       "      <th>98</th>\n",
       "      <td>0.0</td>\n",
       "      <td>1.0</td>\n",
       "    </tr>\n",
       "    <tr>\n",
       "      <th>99</th>\n",
       "      <td>0.0</td>\n",
       "      <td>1.0</td>\n",
       "    </tr>\n",
       "  </tbody>\n",
       "</table>\n",
       "<p>100 rows × 2 columns</p>\n",
       "</div>"
      ],
      "text/plain": [
       "     st  constant\n",
       "0   0.0       1.0\n",
       "1   0.0       1.0\n",
       "2   0.0       1.0\n",
       "3   0.0       1.0\n",
       "4   0.0       1.0\n",
       "..  ...       ...\n",
       "95  0.0       1.0\n",
       "96  0.0       1.0\n",
       "97  0.0       1.0\n",
       "98  0.0       1.0\n",
       "99  0.0       1.0\n",
       "\n",
       "[100 rows x 2 columns]"
      ]
     },
     "execution_count": 7,
     "metadata": {},
     "output_type": "execute_result"
    }
   ],
   "source": [
    "import pandas as pd\n",
    "X = pd.read_csv('Data/Simulations/X.csv')\n",
    "X"
   ]
  },
  {
   "cell_type": "code",
   "execution_count": 8,
   "metadata": {},
   "outputs": [
    {
     "data": {
      "text/plain": [
       "(10000, 100, 1)"
      ]
     },
     "execution_count": 8,
     "metadata": {},
     "output_type": "execute_result"
    }
   ],
   "source": [
    "import numpy as np\n",
    "y_n = np.load('Data/Simulations/y_noise.npy')\n",
    "y_n.shape"
   ]
  },
  {
   "cell_type": "code",
   "execution_count": 9,
   "metadata": {},
   "outputs": [
    {
     "data": {
      "text/plain": [
       "(100, 1)"
      ]
     },
     "execution_count": 9,
     "metadata": {},
     "output_type": "execute_result"
    }
   ],
   "source": [
    "y_n[0].shape"
   ]
  },
  {
   "cell_type": "code",
   "execution_count": 11,
   "metadata": {},
   "outputs": [
    {
     "data": {
      "text/plain": [
       "10000"
      ]
     },
     "execution_count": 11,
     "metadata": {},
     "output_type": "execute_result"
    }
   ],
   "source": [
    "len(y_n)"
   ]
  },
  {
   "cell_type": "code",
   "execution_count": 16,
   "metadata": {},
   "outputs": [
    {
     "data": {
      "text/plain": [
       "array([ -0.96025305, 499.27408789])"
      ]
     },
     "execution_count": 16,
     "metadata": {},
     "output_type": "execute_result"
    }
   ],
   "source": [
    "import bayesianModel as bM\n",
    "betas = bM.betas(X.values,y_n[0])\n",
    "betas[0]"
   ]
  },
  {
   "cell_type": "code",
   "execution_count": 28,
   "metadata": {},
   "outputs": [],
   "source": [
    "e = (X@(betas[0,:])).values[np.newaxis].T-(y_n[0])"
   ]
  },
  {
   "cell_type": "code",
   "execution_count": 30,
   "metadata": {},
   "outputs": [
    {
     "data": {
      "text/plain": [
       "100"
      ]
     },
     "execution_count": 30,
     "metadata": {},
     "output_type": "execute_result"
    }
   ],
   "source": [
    "len(e)"
   ]
  },
  {
   "cell_type": "code",
   "execution_count": 1,
   "metadata": {},
   "outputs": [
    {
     "data": {
      "text/plain": [
       "array([30.87461342, 27.16797282, 35.2194965 , ..., 29.36790557,\n",
       "       21.27855841, 20.80402149])"
      ]
     },
     "execution_count": 1,
     "metadata": {},
     "output_type": "execute_result"
    }
   ],
   "source": [
    "import numpy as np\n",
    "data = np.load('SNR_Sim.npy')\n",
    "data"
   ]
  },
  {
   "cell_type": "code",
   "execution_count": 2,
   "metadata": {},
   "outputs": [
    {
     "data": {
      "text/plain": [
       "(array([  97.,  844., 2389., 2994., 2122., 1053.,  374.,   92.,   28.,\n",
       "           7.]),\n",
       " array([12.82501714, 16.18088923, 19.53676132, 22.89263342, 26.24850551,\n",
       "        29.6043776 , 32.96024969, 36.31612178, 39.67199388, 43.02786597,\n",
       "        46.38373806]),\n",
       " <BarContainer object of 10 artists>)"
      ]
     },
     "execution_count": 2,
     "metadata": {},
     "output_type": "execute_result"
    },
    {
     "data": {
      "image/png": "[encoded data removed]",
      "text/plain": [
       "<Figure size 640x480 with 1 Axes>"
      ]
     },
     "metadata": {},
     "output_type": "display_data"
    }
   ],
   "source": [
    "import matplotlib.pyplot as plt\n",
    "plt.hist(data)"
   ]
  },
  {
   "cell_type": "code",
   "execution_count": null,
   "metadata": {},
   "outputs": [],
   "source": []
  },
  {
   "cell_type": "markdown",
   "metadata": {},
   "source": [
    "# Threesholding and Smoothing Testing"
   ]
  },
  {
   "cell_type": "code",
   "execution_count": 15,
   "metadata": {},
   "outputs": [
    {
     "data": {
      "text/plain": [
       "array([0.688, 0.187, 0.786, ..., 0.224, 0.887, 0.457])"
      ]
     },
     "execution_count": 15,
     "metadata": {},
     "output_type": "execute_result"
    }
   ],
   "source": [
    "import pandas as pd\n",
    "\n",
    "path = '../Data/'\n",
    "fn_res = path + 'Simulations/stProb_P0Q0.csv'\n",
    "\n",
    "df_res = pd.read_csv(fn_res,index_col=0)\n",
    "pMap = df_res.loc[0].values\n",
    "pMap"
   ]
  },
  {
   "cell_type": "code",
   "execution_count": 16,
   "metadata": {},
   "outputs": [
    {
     "ename": "ModuleNotFoundError",
     "evalue": "No module named 'fMRIUtils'",
     "output_type": "error",
     "traceback": [
      "\u001b[0;31m---------------------------------------------------------------------------\u001b[0m",
      "\u001b[0;31mModuleNotFoundError\u001b[0m                       Traceback (most recent call last)",
      "Cell \u001b[0;32mIn[16], line 2\u001b[0m\n\u001b[1;32m      1\u001b[0m \u001b[39mimport\u001b[39;00m \u001b[39mscipy\u001b[39;00m \u001b[39mas\u001b[39;00m \u001b[39msp\u001b[39;00m\n\u001b[0;32m----> 2\u001b[0m \u001b[39mimport\u001b[39;00m \u001b[39mfMRIUtils\u001b[39;00m \u001b[39mas\u001b[39;00m \u001b[39mfmriu\u001b[39;00m\n\u001b[1;32m      4\u001b[0m \u001b[39mimport\u001b[39;00m \u001b[39mnumpy\u001b[39;00m \u001b[39mas\u001b[39;00m \u001b[39mnp\u001b[39;00m\n\u001b[1;32m      5\u001b[0m \u001b[39mfrom\u001b[39;00m \u001b[39mscipy\u001b[39;00m\u001b[39m.\u001b[39;00m\u001b[39moptimize\u001b[39;00m \u001b[39mimport\u001b[39;00m fsolve\n",
      "\u001b[0;31mModuleNotFoundError\u001b[0m: No module named 'fMRIUtils'"
     ]
    }
   ],
   "source": [
    "import scipy as sp\n",
    "import fMRIUtils as fmriu\n",
    "\n",
    "import numpy as np\n",
    "from scipy.optimize import fsolve\n",
    "\n",
    "def f(bn):\n",
    "    n = 40000\n",
    "    return(np.abs(1/n-(np.exp(-(bn**2)/2))/(bn*(2*np.pi)**(0.5))))\n",
    "\n",
    "Xi = pMap\n",
    "## Step 1. Initialization\n",
    "X = [Xi] # Initialization of X with Xi\n",
    "n = len(Xi) # Number of voxels to consider\n",
    "Zeta = [np.zeros(n)] # Initialize Zeta with an array of n zeros\n",
    "N = [n] # Initialize N with n (all voxels inactive)\n",
    "eta = [] # Initialize eta as an empty array\n",
    "k = 0 # Iteration marker\n",
    "t = 0 # Termination flag\n",
    "S = np.arange(0.25,2.50,0.25)\n",
    "while not(t) and k < 10:\n",
    "    ## Step 2. MLE of X[k] *** Can change to find scale using average of st dev of image ***\n",
    "    A,B,loc,scale = sp.stats.truncnorm.fit(X[k],fa=0,fb=1)\n",
    "\n",
    "    ## Step 3. Apply gaussian smoothing to obtain X[k+1]\n",
    "    s = S[k] # Value of sigma increases exponentially with iterations\n",
    "    # The images are reshaped for the gaussian filter and then flattened agai.\n",
    "    X.append(sp.ndimage.gaussian_filter(np.reshape(X[k], (-1, dim)),sigma=s).flatten())\n",
    "\n",
    "    ## Step 4. Calculate threeshold\n",
    "    # Get rho\n",
    "    #rho = var_rho([200,200],[s,s]) # *** Change: Calculate using TRF of first row ***\n",
    "    rho = 1\n",
    "    # Get bn - Using values obtained in Step 2\n",
    "    #bn = rho*sp.stats.truncnorm.ppf(1-1/n,A,B,loc,scale)\n",
    "    # Get an - Using values obtained in Step 2\n",
    "    #an = rho/(n*sp.stats.truncnorm.pdf(bn/rho,A,B,loc,scale))\n",
    "    bn = fsolve(f,1)[0]\n",
    "    an = 1/bn\n",
    "    # Get i - Fitting image to Gumbel distribution and taking upper tail value\n",
    "    locg,scaleg = sp.stats.gumbel_r.fit(X[k])\n",
    "    i = sp.stats.gumbel_r.ppf(0.95,locg,scaleg)\n",
    "    # Append threeshold to eta array\n",
    "    A,B,loc,scale,an,bn,locg,scaleg,i,an*i+bn\n",
    "    ## Step 5. Generate activation maps\n",
    "    # If voxel is activated, it stays activated (logical or)\n",
    "    # and if probability values are greater than threeshold,\n",
    "    # voxels get activated.\n",
    "    Zeta.append(np.logical_or(X[k+1]>eta[k],Zeta[k]))\n",
    "\n",
    "    ## Step 6. Termination\n",
    "    # A. If no activation detected in first iteration, terminate.\n",
    "    ni = n-sum(Zeta[k+1]) # Number of inactive voxels\n",
    "    if k == 0 and ni == n:\n",
    "        t = 1\n",
    "        print('no activation')\n",
    "        return np.array(Zeta), np.array(N), np.array(eta), np.array(X)\n",
    "    else:\n",
    "        # If activation is detected, append the number of inactive voxels to N\n",
    "        N.append(ni) \n",
    "        # B. If Jaccard Index decreases in two successive iterations, terminate.\n",
    "        if k>=2:\n",
    "            J_1 = fmriu.jaccardIndex(Zeta[k-2],Zeta[k-1])\n",
    "            J_2 = fmriu.jaccardIndex(Zeta[k-1],Zeta[k])\n",
    "            if J_1 >= J_2:\n",
    "                t = 1\n",
    "                print('termination by Jaccard Index')\n",
    "                # Eliminate the last values of the list because the Jaccard Index descreased.\n",
    "                Zeta.pop()\n",
    "                N.pop()\n",
    "                eta.pop()\n",
    "                X.pop()\n",
    "                return np.array(Zeta), np.array(N), np.array(eta), np.array(X)\n",
    "        # Increase iteration marker\n",
    "        k += 1\n",
    "return np.array(Zeta), np.array(N), np.array(eta), np.array(X)"
   ]
  },
  {
   "cell_type": "code",
   "execution_count": 27,
   "metadata": {},
   "outputs": [
    {
     "data": {
      "text/plain": [
       "[<matplotlib.lines.Line2D at 0x2822abaf0>]"
      ]
     },
     "execution_count": 27,
     "metadata": {},
     "output_type": "execute_result"
    },
    {
     "data": {
      "image/png": "[encoded data removed]",
      "text/plain": [
       "<Figure size 640x480 with 1 Axes>"
      ]
     },
     "metadata": {},
     "output_type": "display_data"
    }
   ],
   "source": [
    "import matplotlib.pyplot as plt\n",
    "plt.hist(pMap,density=True)\n",
    "plt.plot(X,y)"
   ]
  },
  {
   "cell_type": "code",
   "execution_count": 29,
   "metadata": {},
   "outputs": [
    {
     "data": {
      "text/plain": [
       "[<matplotlib.lines.Line2D at 0x282411640>]"
      ]
     },
     "execution_count": 29,
     "metadata": {},
     "output_type": "execute_result"
    },
    {
     "data": {
      "image/png": "[encoded data removed]",
      "text/plain": [
       "<Figure size 640x480 with 1 Axes>"
      ]
     },
     "metadata": {},
     "output_type": "display_data"
    }
   ],
   "source": [
    "import numpy as np\n",
    "X = np.arange(-0.01,1.01,0.01)\n",
    "y = []\n",
    "for x in X:\n",
    "    y.append(sp.stats.truncnorm.ppf(x,A,B,loc,scale))\n",
    "plt.plot(X,y)"
   ]
  },
  {
   "cell_type": "code",
   "execution_count": 32,
   "metadata": {},
   "outputs": [
    {
     "data": {
      "text/plain": [
       "[<matplotlib.lines.Line2D at 0x1600da700>]"
      ]
     },
     "execution_count": 32,
     "metadata": {},
     "output_type": "execute_result"
    },
    {
     "data": {
      "image/png": "[encoded data removed]",
      "text/plain": [
       "<Figure size 640x480 with 1 Axes>"
      ]
     },
     "metadata": {},
     "output_type": "display_data"
    }
   ],
   "source": [
    "import numpy as np\n",
    "X = np.arange(-1,2,0.01)\n",
    "y = []\n",
    "for x in X:\n",
    "    y.append(sp.stats.gumbel_r.cdf(x,locg,scaleg))\n",
    "plt.plot(X,y)"
   ]
  },
  {
   "cell_type": "code",
   "execution_count": 8,
   "metadata": {},
   "outputs": [
    {
     "data": {
      "text/plain": [
       "array([[154.44780539 -0.06640071j,  -3.30464353 -0.1794946j ,\n",
       "         -4.09235054 +5.50581073j, ...,  -1.18994479 +3.95607259j,\n",
       "         -5.27566002 -6.82554698j,  -4.80535089 +0.90577614j],\n",
       "       [ -3.23869562 +1.06075774j,  16.61430198-10.39602094j,\n",
       "        -10.377223  +23.18919178j, ..., -10.84059382 -8.75798372j,\n",
       "         12.81414371+17.88699733j,  -3.29798089-15.59211365j],\n",
       "       [ -9.080732   -2.90679076j, -14.94846722+18.86756734j,\n",
       "         37.66544239 +1.55129083j, ..., -11.89946427 -0.68688913j,\n",
       "         14.28161223 -2.85169638j,  15.17216013 +1.64560528j],\n",
       "       ...,\n",
       "       [  2.67417589 -1.26303701j,   1.43173371 +9.38976439j,\n",
       "          5.95924077 +3.47860248j, ...,  18.81175234 +5.8393687j ,\n",
       "          8.00798014 -3.64589063j,  -1.61149736 -7.10971925j],\n",
       "       [-10.52564975 +3.298507j  ,  17.09688868-20.63236747j,\n",
       "         -2.44032199 -5.56369017j, ...,  12.19405545 -2.89651483j,\n",
       "         27.13317827+15.01674863j,  -4.59767162 -5.32365371j],\n",
       "       [ -4.06266497 -0.13549889j,  -8.1341063  +1.83355219j,\n",
       "         -2.29946118-17.52896733j, ...,   3.47622359 -7.31079201j,\n",
       "        -11.8630834  -6.73591808j,  30.8123066 +16.40840879j]])"
      ]
     },
     "execution_count": 8,
     "metadata": {},
     "output_type": "execute_result"
    }
   ],
   "source": [
    "import scipy as sp\n",
    "import numpy as np\n",
    "from scipy.linalg import fractional_matrix_power\n",
    "A = fractional_matrix_power(np.linalg.inv(sp.fft.fft2(np.reshape(pMap, (-1, 200)))),-0.5) # inversa a la -1/2 de esta matriz y sumar la primera fila\n",
    "A"
   ]
  },
  {
   "cell_type": "code",
   "execution_count": 12,
   "metadata": {},
   "outputs": [
    {
     "data": {
      "text/plain": [
       "(-24.26877079565352-13.482106636911311j)"
      ]
     },
     "execution_count": 12,
     "metadata": {},
     "output_type": "execute_result"
    }
   ],
   "source": [
    "sum(A[2])"
   ]
  },
  {
   "cell_type": "code",
   "execution_count": 17,
   "metadata": {},
   "outputs": [],
   "source": [
    "import numpy as np\n",
    "from scipy.fftpack import fft, ifft\n",
    "\n",
    "def gaussian_filter_1d(n, fwhm, scaled=False):\n",
    "    spar = fwhm / 2.3548\n",
    "    if spar < 1e-16:\n",
    "        ff = np.zeros(n)\n",
    "        ff[0] = 1\n",
    "    else:\n",
    "        ff = np.exp(-((np.arange(n // 2 + 1) / spar) ** 2) / 2)\n",
    "        ff = np.concatenate((ff, ff[-2::-1]))\n",
    "\n",
    " \n",
    "\n",
    "    if scaled:\n",
    "        ff = ff / np.sum(ff)\n",
    "    return ff\n",
    "\n",
    " \n",
    "\n",
    "def gaussian_filter_2d(n, fwhm, scaled=False):\n",
    "    filter_1d_n1 = gaussian_filter_1d(n[0], fwhm[0], scaled)\n",
    "    filter_1d_n2 = gaussian_filter_1d(n[1], fwhm[1], scaled)\n",
    "    return np.outer(filter_1d_n1, filter_1d_n2)\n",
    "\n",
    " \n",
    "\n",
    "def gaussian_filter_3d(n, fwhm, scaled=False):\n",
    "    filter_1d_n1 = gaussian_filter_1d(n[0], fwhm[0], scaled)\n",
    "    filter_1d_n2 = gaussian_filter_1d(n[1], fwhm[1], scaled)\n",
    "    filter_1d_n3 = gaussian_filter_1d(n[2], fwhm[2], scaled)\n",
    "    return np.einsum('ijk->ijk', np.einsum('i,j,k', filter_1d_n1, filter_1d_n2, filter_1d_n3) * gaussian_filter_2d(n[:2], fwhm[:2], scaled))\n",
    "\n",
    " \n",
    "\n",
    "def scaled_fft(z, inverse=False):\n",
    "    scaling_factor = 1 / np.sqrt(np.prod(z.shape) if z.ndim > 0 else z.size)\n",
    "    if inverse:\n",
    "        return ifft(z) * scaling_factor\n",
    "    else:\n",
    "        return fft(z) / scaling_factor\n",
    "\n",
    " \n",
    "\n",
    "def ffthalf_gaussian(n, fwhm, scaled=False, eps=0.01):\n",
    "    if len(fwhm) == 2:\n",
    "        f = gaussian_filter_2d(n, fwhm, scaled)\n",
    "    else:\n",
    "        if len(fwhm) == 3:\n",
    "            f = gaussian_filter_3d(n, fwhm, scaled)\n",
    "        else:\n",
    "            raise ValueError(\"This currently only works for 2d or 3d\")\n",
    "\n",
    "    f_fft = scaled_fft(f)\n",
    "    f_1 = np.sqrt(f_fft / np.sqrt(np.prod(n)))\n",
    "    return np.real(f_1)\n",
    "\n",
    " \n",
    "\n",
    "def fftminushalf_gaussian(n, fwhm, scaled=False, eps=0.01):\n",
    "    f_1 = ffthalf_gaussian(n, fwhm, scaled)\n",
    "    f_2 = 1 / f_1\n",
    "    f_2[np.abs(f_1) < eps * np.max(np.abs(f_1))] = 0\n",
    "    return f_2 / np.sqrt(np.prod(n))\n",
    "\n",
    " \n",
    "\n",
    "def gaussian_minushalf(n, fwhm, scaled=False, eps=0.01):\n",
    "    return np.real(scaled_fft(fftminushalf_gaussian(n, fwhm, scaled, eps), inverse=True)) / np.sqrt(np.prod(n))\n",
    "\n",
    " \n",
    "\n",
    "def gaussian_half(n, fwhm, scaled=False, eps=0.01):\n",
    "    return np.real(scaled_fft(ffthalf_gaussian(n, fwhm, scaled, eps), inverse=True))\n",
    "\n",
    " \n",
    "\n",
    "def gauss_smooth(tstat, fwhm, scaled=True):\n",
    "    n = tstat.shape\n",
    "    sum_t = np.sum(tstat)\n",
    "    if len(fwhm) == 2:\n",
    "        f = gaussian_filter_2d(n, fwhm, scaled)\n",
    "    else:\n",
    "        if len(fwhm) == 3:\n",
    "            f = gaussian_filter_3d(n, fwhm, scaled)\n",
    "        else:\n",
    "            raise ValueError(\"Only works for 2d or 3d\")\n",
    "\n",
    "    f_fft = fft(f, norm=\"ortho\")\n",
    "    t_fft = fft(tstat, norm=\"ortho\")\n",
    "    tf_fft = t_fft * f_fft\n",
    "    tf = np.real(ifft(tf_fft, norm=\"ortho\"))\n",
    "    sum_tf = np.sum(tf)\n",
    "    tf = tf * sum_t / sum_tf\n",
    "\n",
    " \n",
    "\n",
    "def fwhm_llhd(fwhm, tstat, eps=1e-16):\n",
    "    f1 = fftminushalf_gaussian(tstat.shape, fwhm, scaled=False, eps=eps)\n",
    "    X_cor = np.real(scaled_fft(scaled_fft(tstat) * f1, inverse=True))\n",
    "    return -np.sum(X_cor ** 2) / 2 + np.sum(np.log(f1[f1 > 0]))\n",
    "\n",
    " \n",
    "\n",
    "def var_rho(n, fwhm, eps=1e-16):\n",
    "    return np.sum(gaussian_half(n, fwhm, eps=eps))"
   ]
  },
  {
   "cell_type": "code",
   "execution_count": 19,
   "metadata": {},
   "outputs": [
    {
     "data": {
      "text/plain": [
       "0.01823344445273334"
      ]
     },
     "execution_count": 19,
     "metadata": {},
     "output_type": "execute_result"
    }
   ],
   "source": [
    "var_rho([200,200],[1,1]) # tiene que ser 1.1"
   ]
  },
  {
   "cell_type": "code",
   "execution_count": 14,
   "metadata": {},
   "outputs": [],
   "source": [
    "import numpy as np\n",
    "from scipy.optimize import fsolve\n",
    "\n",
    "def f(bn):\n",
    "    n = 40000\n",
    "    return(np.abs(1/n-(np.exp(-(bn**2)/2))/(bn*(2*np.pi)**(0.5))))\n",
    "    \n",
    "bn = fsolve(f,1)[0]\n",
    "an = 1/bn"
   ]
  },
  {
   "cell_type": "code",
   "execution_count": 12,
   "metadata": {},
   "outputs": [],
   "source": []
  },
  {
   "cell_type": "code",
   "execution_count": null,
   "metadata": {},
   "outputs": [],
   "source": []
  }
 ],
 "metadata": {
  "kernelspec": {
   "display_name": "Python 3.11.5 64-bit",
   "language": "python",
   "name": "python3"
  },
  "language_info": {
   "codemirror_mode": {
    "name": "ipython",
    "version": 3
   },
   "file_extension": ".py",
   "mimetype": "text/x-python",
   "name": "python",
   "nbconvert_exporter": "python",
   "pygments_lexer": "ipython3",
   "version": "3.11.5"
  },
  "orig_nbformat": 4,
  "vscode": {
   "interpreter": {
    "hash": "b0fa6594d8f4cbf19f97940f81e996739fb7646882a419484c72d19e05852a7e"
   }
  }
 },
 "nbformat": 4,
 "nbformat_minor": 2
}
