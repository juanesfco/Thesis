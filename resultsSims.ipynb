{
 "cells": [
  {
   "cell_type": "markdown",
   "metadata": {},
   "source": [
    "# Partial Results of Simulations"
   ]
  },
  {
   "cell_type": "markdown",
   "metadata": {},
   "source": [
    "In this notebook we are going to detail how the simulations were designed and some partial results."
   ]
  },
  {
   "cell_type": "markdown",
   "metadata": {},
   "source": [
    "## Data Generation"
   ]
  },
  {
   "cell_type": "markdown",
   "metadata": {},
   "source": [
    "The data generation process began obtaining a raw image and processing it pixel-wise. Then, generating the experiment events and the design matrix with them. With this and the image processed, the voxel-wise BOLD data without noise was obtained. And finally, a procedure to generate noise to the voxel-wise BOLD data is proposed.\n",
    "\n",
    "All the procedures explained in this section are done by the `generateSimulationData.py` Script."
   ]
  },
  {
   "cell_type": "markdown",
   "metadata": {},
   "source": [
    "### Pixel-Wise Processing of Raw Image"
   ]
  },
  {
   "cell_type": "markdown",
   "metadata": {},
   "source": [
    "The raw activation image was taken from <https://en.m.wikipedia.org/wiki/File:Soccerball.svg> is the $200px \\times 200 px$ football drawing shown below:\n",
    "\n",
    "![ball](./Data/ball.png)\n",
    "\n",
    "The white pixels were treated as $0$ and the black pixels as $1$, see it below."
   ]
  },
  {
   "cell_type": "code",
   "execution_count": 1,
   "metadata": {},
   "outputs": [
    {
     "data": {
      "image/png": "[encoded data removed]",
      "text/plain": [
       "<Figure size 640x480 with 1 Axes>"
      ]
     },
     "metadata": {},
     "output_type": "display_data"
    }
   ],
   "source": [
    "import numpy as np\n",
    "import fMRIUtils as fmriu\n",
    "b = np.load('Data/ball_50.npy')\n",
    "fmriu.plotImage(b,50,0)"
   ]
  },
  {
   "cell_type": "code",
   "execution_count": 2,
   "metadata": {},
   "outputs": [
    {
     "data": {
      "text/plain": [
       "(422, 0.1688)"
      ]
     },
     "execution_count": 2,
     "metadata": {},
     "output_type": "execute_result"
    }
   ],
   "source": [
    "sum(b), sum(b)/2500"
   ]
  },
  {
   "cell_type": "markdown",
   "metadata": {},
   "source": [
    "From the $40,000$ pixels the image has, exactly $7975$ are black, hence we will have an approximate of $19.9 \\%$ of activation, which is higher than usual fMRI images."
   ]
  },
  {
   "cell_type": "markdown",
   "metadata": {},
   "source": [
    "### Experiment Events and Design Matrix"
   ]
  },
  {
   "cell_type": "markdown",
   "metadata": {},
   "source": [
    "The simulated experiment has 100 scans with 2 seconds between them, for a total of 200 seconds. There are 4 stimulus that last for 10 seconds. The first one occurs randomly within the first 10 to 24 seconds, and the following stimulus occur also randomly with a time difference of 36 to 50 seconds from the previous stimulus. Note that in the worst case scenario, the last stimulus will begin at 174 seconds and will end at 184 seconds. See it below."
   ]
  },
  {
   "cell_type": "code",
   "execution_count": 3,
   "metadata": {},
   "outputs": [
    {
     "data": {
      "text/plain": [
       "<Axes: label='conditions', ylabel='scan number'>"
      ]
     },
     "execution_count": 3,
     "metadata": {},
     "output_type": "execute_result"
    },
    {
     "data": {
      "image/png": "[encoded data removed]",
      "text/plain": [
       "<Figure size 146x1000 with 1 Axes>"
      ]
     },
     "metadata": {},
     "output_type": "display_data"
    }
   ],
   "source": [
    "from nilearn.plotting import plot_design_matrix\n",
    "import pandas as pd\n",
    "\n",
    "X = pd.read_csv('Data/Simulations/X.csv')\n",
    "plot_design_matrix(X)\n"
   ]
  },
  {
   "cell_type": "markdown",
   "metadata": {},
   "source": [
    "### Voxel-Wise BOLD Data without Noise"
   ]
  },
  {
   "cell_type": "markdown",
   "metadata": {},
   "source": [
    "The BOLD data was generated by taking the product of the design matrix of dimension $(100,2)$ and $\\beta$ vectors of dimension $(2,1)$, where the first element of the vector takes a value of $15$ when the voxel is activated and a value of $0$ when is not. Additionally, the second element of the $\\beta$ vector (corresponding to the intercept) is always $128$. This was done for each of the $40000$ voxels. See the BOLD data map below."
   ]
  },
  {
   "cell_type": "code",
   "execution_count": 4,
   "metadata": {},
   "outputs": [
    {
     "data": {
      "text/html": [
       "<div>\n",
       "<style scoped>\n",
       "    .dataframe tbody tr th:only-of-type {\n",
       "        vertical-align: middle;\n",
       "    }\n",
       "\n",
       "    .dataframe tbody tr th {\n",
       "        vertical-align: top;\n",
       "    }\n",
       "\n",
       "    .dataframe thead th {\n",
       "        text-align: right;\n",
       "    }\n",
       "</style>\n",
       "<table border=\"1\" class=\"dataframe\">\n",
       "  <thead>\n",
       "    <tr style=\"text-align: right;\">\n",
       "      <th></th>\n",
       "      <th>v1</th>\n",
       "      <th>v2</th>\n",
       "      <th>v3</th>\n",
       "      <th>v4</th>\n",
       "      <th>v5</th>\n",
       "      <th>v6</th>\n",
       "      <th>v7</th>\n",
       "      <th>v8</th>\n",
       "      <th>v9</th>\n",
       "      <th>v10</th>\n",
       "      <th>...</th>\n",
       "      <th>v2491</th>\n",
       "      <th>v2492</th>\n",
       "      <th>v2493</th>\n",
       "      <th>v2494</th>\n",
       "      <th>v2495</th>\n",
       "      <th>v2496</th>\n",
       "      <th>v2497</th>\n",
       "      <th>v2498</th>\n",
       "      <th>v2499</th>\n",
       "      <th>v2500</th>\n",
       "    </tr>\n",
       "  </thead>\n",
       "  <tbody>\n",
       "    <tr>\n",
       "      <th>0</th>\n",
       "      <td>100.0</td>\n",
       "      <td>100.0</td>\n",
       "      <td>100.0</td>\n",
       "      <td>100.0</td>\n",
       "      <td>100.0</td>\n",
       "      <td>100.0</td>\n",
       "      <td>100.0</td>\n",
       "      <td>100.0</td>\n",
       "      <td>100.0</td>\n",
       "      <td>100.0</td>\n",
       "      <td>...</td>\n",
       "      <td>100.0</td>\n",
       "      <td>100.0</td>\n",
       "      <td>100.0</td>\n",
       "      <td>100.0</td>\n",
       "      <td>100.0</td>\n",
       "      <td>100.0</td>\n",
       "      <td>100.0</td>\n",
       "      <td>100.0</td>\n",
       "      <td>100.0</td>\n",
       "      <td>100.0</td>\n",
       "    </tr>\n",
       "    <tr>\n",
       "      <th>1</th>\n",
       "      <td>100.0</td>\n",
       "      <td>100.0</td>\n",
       "      <td>100.0</td>\n",
       "      <td>100.0</td>\n",
       "      <td>100.0</td>\n",
       "      <td>100.0</td>\n",
       "      <td>100.0</td>\n",
       "      <td>100.0</td>\n",
       "      <td>100.0</td>\n",
       "      <td>100.0</td>\n",
       "      <td>...</td>\n",
       "      <td>100.0</td>\n",
       "      <td>100.0</td>\n",
       "      <td>100.0</td>\n",
       "      <td>100.0</td>\n",
       "      <td>100.0</td>\n",
       "      <td>100.0</td>\n",
       "      <td>100.0</td>\n",
       "      <td>100.0</td>\n",
       "      <td>100.0</td>\n",
       "      <td>100.0</td>\n",
       "    </tr>\n",
       "    <tr>\n",
       "      <th>2</th>\n",
       "      <td>100.0</td>\n",
       "      <td>100.0</td>\n",
       "      <td>100.0</td>\n",
       "      <td>100.0</td>\n",
       "      <td>100.0</td>\n",
       "      <td>100.0</td>\n",
       "      <td>100.0</td>\n",
       "      <td>100.0</td>\n",
       "      <td>100.0</td>\n",
       "      <td>100.0</td>\n",
       "      <td>...</td>\n",
       "      <td>100.0</td>\n",
       "      <td>100.0</td>\n",
       "      <td>100.0</td>\n",
       "      <td>100.0</td>\n",
       "      <td>100.0</td>\n",
       "      <td>100.0</td>\n",
       "      <td>100.0</td>\n",
       "      <td>100.0</td>\n",
       "      <td>100.0</td>\n",
       "      <td>100.0</td>\n",
       "    </tr>\n",
       "    <tr>\n",
       "      <th>3</th>\n",
       "      <td>100.0</td>\n",
       "      <td>100.0</td>\n",
       "      <td>100.0</td>\n",
       "      <td>100.0</td>\n",
       "      <td>100.0</td>\n",
       "      <td>100.0</td>\n",
       "      <td>100.0</td>\n",
       "      <td>100.0</td>\n",
       "      <td>100.0</td>\n",
       "      <td>100.0</td>\n",
       "      <td>...</td>\n",
       "      <td>100.0</td>\n",
       "      <td>100.0</td>\n",
       "      <td>100.0</td>\n",
       "      <td>100.0</td>\n",
       "      <td>100.0</td>\n",
       "      <td>100.0</td>\n",
       "      <td>100.0</td>\n",
       "      <td>100.0</td>\n",
       "      <td>100.0</td>\n",
       "      <td>100.0</td>\n",
       "    </tr>\n",
       "    <tr>\n",
       "      <th>4</th>\n",
       "      <td>100.0</td>\n",
       "      <td>100.0</td>\n",
       "      <td>100.0</td>\n",
       "      <td>100.0</td>\n",
       "      <td>100.0</td>\n",
       "      <td>100.0</td>\n",
       "      <td>100.0</td>\n",
       "      <td>100.0</td>\n",
       "      <td>100.0</td>\n",
       "      <td>100.0</td>\n",
       "      <td>...</td>\n",
       "      <td>100.0</td>\n",
       "      <td>100.0</td>\n",
       "      <td>100.0</td>\n",
       "      <td>100.0</td>\n",
       "      <td>100.0</td>\n",
       "      <td>100.0</td>\n",
       "      <td>100.0</td>\n",
       "      <td>100.0</td>\n",
       "      <td>100.0</td>\n",
       "      <td>100.0</td>\n",
       "    </tr>\n",
       "    <tr>\n",
       "      <th>...</th>\n",
       "      <td>...</td>\n",
       "      <td>...</td>\n",
       "      <td>...</td>\n",
       "      <td>...</td>\n",
       "      <td>...</td>\n",
       "      <td>...</td>\n",
       "      <td>...</td>\n",
       "      <td>...</td>\n",
       "      <td>...</td>\n",
       "      <td>...</td>\n",
       "      <td>...</td>\n",
       "      <td>...</td>\n",
       "      <td>...</td>\n",
       "      <td>...</td>\n",
       "      <td>...</td>\n",
       "      <td>...</td>\n",
       "      <td>...</td>\n",
       "      <td>...</td>\n",
       "      <td>...</td>\n",
       "      <td>...</td>\n",
       "      <td>...</td>\n",
       "    </tr>\n",
       "    <tr>\n",
       "      <th>95</th>\n",
       "      <td>100.0</td>\n",
       "      <td>100.0</td>\n",
       "      <td>100.0</td>\n",
       "      <td>100.0</td>\n",
       "      <td>100.0</td>\n",
       "      <td>100.0</td>\n",
       "      <td>100.0</td>\n",
       "      <td>100.0</td>\n",
       "      <td>100.0</td>\n",
       "      <td>100.0</td>\n",
       "      <td>...</td>\n",
       "      <td>100.0</td>\n",
       "      <td>100.0</td>\n",
       "      <td>100.0</td>\n",
       "      <td>100.0</td>\n",
       "      <td>100.0</td>\n",
       "      <td>100.0</td>\n",
       "      <td>100.0</td>\n",
       "      <td>100.0</td>\n",
       "      <td>100.0</td>\n",
       "      <td>100.0</td>\n",
       "    </tr>\n",
       "    <tr>\n",
       "      <th>96</th>\n",
       "      <td>100.0</td>\n",
       "      <td>100.0</td>\n",
       "      <td>100.0</td>\n",
       "      <td>100.0</td>\n",
       "      <td>100.0</td>\n",
       "      <td>100.0</td>\n",
       "      <td>100.0</td>\n",
       "      <td>100.0</td>\n",
       "      <td>100.0</td>\n",
       "      <td>100.0</td>\n",
       "      <td>...</td>\n",
       "      <td>100.0</td>\n",
       "      <td>100.0</td>\n",
       "      <td>100.0</td>\n",
       "      <td>100.0</td>\n",
       "      <td>100.0</td>\n",
       "      <td>100.0</td>\n",
       "      <td>100.0</td>\n",
       "      <td>100.0</td>\n",
       "      <td>100.0</td>\n",
       "      <td>100.0</td>\n",
       "    </tr>\n",
       "    <tr>\n",
       "      <th>97</th>\n",
       "      <td>100.0</td>\n",
       "      <td>100.0</td>\n",
       "      <td>100.0</td>\n",
       "      <td>100.0</td>\n",
       "      <td>100.0</td>\n",
       "      <td>100.0</td>\n",
       "      <td>100.0</td>\n",
       "      <td>100.0</td>\n",
       "      <td>100.0</td>\n",
       "      <td>100.0</td>\n",
       "      <td>...</td>\n",
       "      <td>100.0</td>\n",
       "      <td>100.0</td>\n",
       "      <td>100.0</td>\n",
       "      <td>100.0</td>\n",
       "      <td>100.0</td>\n",
       "      <td>100.0</td>\n",
       "      <td>100.0</td>\n",
       "      <td>100.0</td>\n",
       "      <td>100.0</td>\n",
       "      <td>100.0</td>\n",
       "    </tr>\n",
       "    <tr>\n",
       "      <th>98</th>\n",
       "      <td>100.0</td>\n",
       "      <td>100.0</td>\n",
       "      <td>100.0</td>\n",
       "      <td>100.0</td>\n",
       "      <td>100.0</td>\n",
       "      <td>100.0</td>\n",
       "      <td>100.0</td>\n",
       "      <td>100.0</td>\n",
       "      <td>100.0</td>\n",
       "      <td>100.0</td>\n",
       "      <td>...</td>\n",
       "      <td>100.0</td>\n",
       "      <td>100.0</td>\n",
       "      <td>100.0</td>\n",
       "      <td>100.0</td>\n",
       "      <td>100.0</td>\n",
       "      <td>100.0</td>\n",
       "      <td>100.0</td>\n",
       "      <td>100.0</td>\n",
       "      <td>100.0</td>\n",
       "      <td>100.0</td>\n",
       "    </tr>\n",
       "    <tr>\n",
       "      <th>99</th>\n",
       "      <td>100.0</td>\n",
       "      <td>100.0</td>\n",
       "      <td>100.0</td>\n",
       "      <td>100.0</td>\n",
       "      <td>100.0</td>\n",
       "      <td>100.0</td>\n",
       "      <td>100.0</td>\n",
       "      <td>100.0</td>\n",
       "      <td>100.0</td>\n",
       "      <td>100.0</td>\n",
       "      <td>...</td>\n",
       "      <td>100.0</td>\n",
       "      <td>100.0</td>\n",
       "      <td>100.0</td>\n",
       "      <td>100.0</td>\n",
       "      <td>100.0</td>\n",
       "      <td>100.0</td>\n",
       "      <td>100.0</td>\n",
       "      <td>100.0</td>\n",
       "      <td>100.0</td>\n",
       "      <td>100.0</td>\n",
       "    </tr>\n",
       "  </tbody>\n",
       "</table>\n",
       "<p>100 rows × 2500 columns</p>\n",
       "</div>"
      ],
      "text/plain": [
       "       v1     v2     v3     v4     v5     v6     v7     v8     v9    v10  ...  \\\n",
       "0   100.0  100.0  100.0  100.0  100.0  100.0  100.0  100.0  100.0  100.0  ...   \n",
       "1   100.0  100.0  100.0  100.0  100.0  100.0  100.0  100.0  100.0  100.0  ...   \n",
       "2   100.0  100.0  100.0  100.0  100.0  100.0  100.0  100.0  100.0  100.0  ...   \n",
       "3   100.0  100.0  100.0  100.0  100.0  100.0  100.0  100.0  100.0  100.0  ...   \n",
       "4   100.0  100.0  100.0  100.0  100.0  100.0  100.0  100.0  100.0  100.0  ...   \n",
       "..    ...    ...    ...    ...    ...    ...    ...    ...    ...    ...  ...   \n",
       "95  100.0  100.0  100.0  100.0  100.0  100.0  100.0  100.0  100.0  100.0  ...   \n",
       "96  100.0  100.0  100.0  100.0  100.0  100.0  100.0  100.0  100.0  100.0  ...   \n",
       "97  100.0  100.0  100.0  100.0  100.0  100.0  100.0  100.0  100.0  100.0  ...   \n",
       "98  100.0  100.0  100.0  100.0  100.0  100.0  100.0  100.0  100.0  100.0  ...   \n",
       "99  100.0  100.0  100.0  100.0  100.0  100.0  100.0  100.0  100.0  100.0  ...   \n",
       "\n",
       "    v2491  v2492  v2493  v2494  v2495  v2496  v2497  v2498  v2499  v2500  \n",
       "0   100.0  100.0  100.0  100.0  100.0  100.0  100.0  100.0  100.0  100.0  \n",
       "1   100.0  100.0  100.0  100.0  100.0  100.0  100.0  100.0  100.0  100.0  \n",
       "2   100.0  100.0  100.0  100.0  100.0  100.0  100.0  100.0  100.0  100.0  \n",
       "3   100.0  100.0  100.0  100.0  100.0  100.0  100.0  100.0  100.0  100.0  \n",
       "4   100.0  100.0  100.0  100.0  100.0  100.0  100.0  100.0  100.0  100.0  \n",
       "..    ...    ...    ...    ...    ...    ...    ...    ...    ...    ...  \n",
       "95  100.0  100.0  100.0  100.0  100.0  100.0  100.0  100.0  100.0  100.0  \n",
       "96  100.0  100.0  100.0  100.0  100.0  100.0  100.0  100.0  100.0  100.0  \n",
       "97  100.0  100.0  100.0  100.0  100.0  100.0  100.0  100.0  100.0  100.0  \n",
       "98  100.0  100.0  100.0  100.0  100.0  100.0  100.0  100.0  100.0  100.0  \n",
       "99  100.0  100.0  100.0  100.0  100.0  100.0  100.0  100.0  100.0  100.0  \n",
       "\n",
       "[100 rows x 2500 columns]"
      ]
     },
     "execution_count": 4,
     "metadata": {},
     "output_type": "execute_result"
    }
   ],
   "source": [
    "import pandas as pd\n",
    "BOLD = pd.read_csv('Data/Simulations/BOLD.csv')\n",
    "BOLD"
   ]
  },
  {
   "cell_type": "markdown",
   "metadata": {},
   "source": [
    "### Generate Noise in BOLD Data"
   ]
  },
  {
   "cell_type": "markdown",
   "metadata": {},
   "source": [
    "To generate noise in the BOLD data, the `generateSignal()` function was used. This function uses an ARIMA Model to simulate the noise. The noise has a mean value of $0$, a variance of $3$. The values of $P$ and $Q$ were iterated $50$ times from $0$ to $3$ each. This was done for each of the $40000$ voxels. In general, each BOLD data with noise is saved as: `BOLD_PxQyRz.csv` with $x,y \\in [0,3]$ and $z \\in [1,50]$. See an example below."
   ]
  },
  {
   "cell_type": "code",
   "execution_count": 5,
   "metadata": {},
   "outputs": [
    {
     "data": {
      "text/html": [
       "<div>\n",
       "<style scoped>\n",
       "    .dataframe tbody tr th:only-of-type {\n",
       "        vertical-align: middle;\n",
       "    }\n",
       "\n",
       "    .dataframe tbody tr th {\n",
       "        vertical-align: top;\n",
       "    }\n",
       "\n",
       "    .dataframe thead th {\n",
       "        text-align: right;\n",
       "    }\n",
       "</style>\n",
       "<table border=\"1\" class=\"dataframe\">\n",
       "  <thead>\n",
       "    <tr style=\"text-align: right;\">\n",
       "      <th></th>\n",
       "      <th>v1</th>\n",
       "      <th>v2</th>\n",
       "      <th>v3</th>\n",
       "      <th>v4</th>\n",
       "      <th>v5</th>\n",
       "      <th>v6</th>\n",
       "      <th>v7</th>\n",
       "      <th>v8</th>\n",
       "      <th>v9</th>\n",
       "      <th>v10</th>\n",
       "      <th>...</th>\n",
       "      <th>v2491</th>\n",
       "      <th>v2492</th>\n",
       "      <th>v2493</th>\n",
       "      <th>v2494</th>\n",
       "      <th>v2495</th>\n",
       "      <th>v2496</th>\n",
       "      <th>v2497</th>\n",
       "      <th>v2498</th>\n",
       "      <th>v2499</th>\n",
       "      <th>v2500</th>\n",
       "    </tr>\n",
       "  </thead>\n",
       "  <tbody>\n",
       "    <tr>\n",
       "      <th>0</th>\n",
       "      <td>109.346524</td>\n",
       "      <td>98.864382</td>\n",
       "      <td>98.854941</td>\n",
       "      <td>106.361168</td>\n",
       "      <td>103.233653</td>\n",
       "      <td>95.905034</td>\n",
       "      <td>97.339547</td>\n",
       "      <td>100.100782</td>\n",
       "      <td>98.204057</td>\n",
       "      <td>102.280419</td>\n",
       "      <td>...</td>\n",
       "      <td>94.417280</td>\n",
       "      <td>98.129579</td>\n",
       "      <td>96.972278</td>\n",
       "      <td>101.627405</td>\n",
       "      <td>93.283697</td>\n",
       "      <td>103.017637</td>\n",
       "      <td>104.859635</td>\n",
       "      <td>101.639887</td>\n",
       "      <td>99.857288</td>\n",
       "      <td>113.651005</td>\n",
       "    </tr>\n",
       "    <tr>\n",
       "      <th>1</th>\n",
       "      <td>106.782951</td>\n",
       "      <td>99.716838</td>\n",
       "      <td>95.677757</td>\n",
       "      <td>105.271772</td>\n",
       "      <td>98.251121</td>\n",
       "      <td>97.645341</td>\n",
       "      <td>99.492320</td>\n",
       "      <td>99.215457</td>\n",
       "      <td>92.805547</td>\n",
       "      <td>108.682413</td>\n",
       "      <td>...</td>\n",
       "      <td>103.364145</td>\n",
       "      <td>100.704078</td>\n",
       "      <td>94.805105</td>\n",
       "      <td>102.552144</td>\n",
       "      <td>98.778840</td>\n",
       "      <td>101.165801</td>\n",
       "      <td>101.690978</td>\n",
       "      <td>107.326094</td>\n",
       "      <td>99.569645</td>\n",
       "      <td>103.522712</td>\n",
       "    </tr>\n",
       "    <tr>\n",
       "      <th>2</th>\n",
       "      <td>103.319667</td>\n",
       "      <td>98.351196</td>\n",
       "      <td>100.213168</td>\n",
       "      <td>101.092822</td>\n",
       "      <td>100.187335</td>\n",
       "      <td>91.282619</td>\n",
       "      <td>101.029010</td>\n",
       "      <td>100.680091</td>\n",
       "      <td>101.474114</td>\n",
       "      <td>95.929302</td>\n",
       "      <td>...</td>\n",
       "      <td>107.068202</td>\n",
       "      <td>104.971241</td>\n",
       "      <td>99.441941</td>\n",
       "      <td>103.278453</td>\n",
       "      <td>95.368250</td>\n",
       "      <td>98.637475</td>\n",
       "      <td>102.077637</td>\n",
       "      <td>104.938617</td>\n",
       "      <td>99.697484</td>\n",
       "      <td>100.266613</td>\n",
       "    </tr>\n",
       "    <tr>\n",
       "      <th>3</th>\n",
       "      <td>101.650750</td>\n",
       "      <td>95.480414</td>\n",
       "      <td>101.221428</td>\n",
       "      <td>102.343642</td>\n",
       "      <td>100.061816</td>\n",
       "      <td>95.624485</td>\n",
       "      <td>99.297520</td>\n",
       "      <td>94.346182</td>\n",
       "      <td>98.533589</td>\n",
       "      <td>98.800851</td>\n",
       "      <td>...</td>\n",
       "      <td>96.216165</td>\n",
       "      <td>97.823687</td>\n",
       "      <td>100.713216</td>\n",
       "      <td>92.779619</td>\n",
       "      <td>105.116232</td>\n",
       "      <td>95.970241</td>\n",
       "      <td>106.100909</td>\n",
       "      <td>99.694004</td>\n",
       "      <td>101.489625</td>\n",
       "      <td>90.050010</td>\n",
       "    </tr>\n",
       "    <tr>\n",
       "      <th>4</th>\n",
       "      <td>101.508250</td>\n",
       "      <td>101.471996</td>\n",
       "      <td>94.218396</td>\n",
       "      <td>105.037956</td>\n",
       "      <td>110.733559</td>\n",
       "      <td>99.634088</td>\n",
       "      <td>106.002096</td>\n",
       "      <td>101.121975</td>\n",
       "      <td>105.182480</td>\n",
       "      <td>101.886388</td>\n",
       "      <td>...</td>\n",
       "      <td>107.363133</td>\n",
       "      <td>98.413016</td>\n",
       "      <td>100.775565</td>\n",
       "      <td>96.342666</td>\n",
       "      <td>100.253835</td>\n",
       "      <td>108.483790</td>\n",
       "      <td>96.968930</td>\n",
       "      <td>99.395984</td>\n",
       "      <td>100.219964</td>\n",
       "      <td>96.356837</td>\n",
       "    </tr>\n",
       "    <tr>\n",
       "      <th>...</th>\n",
       "      <td>...</td>\n",
       "      <td>...</td>\n",
       "      <td>...</td>\n",
       "      <td>...</td>\n",
       "      <td>...</td>\n",
       "      <td>...</td>\n",
       "      <td>...</td>\n",
       "      <td>...</td>\n",
       "      <td>...</td>\n",
       "      <td>...</td>\n",
       "      <td>...</td>\n",
       "      <td>...</td>\n",
       "      <td>...</td>\n",
       "      <td>...</td>\n",
       "      <td>...</td>\n",
       "      <td>...</td>\n",
       "      <td>...</td>\n",
       "      <td>...</td>\n",
       "      <td>...</td>\n",
       "      <td>...</td>\n",
       "      <td>...</td>\n",
       "    </tr>\n",
       "    <tr>\n",
       "      <th>95</th>\n",
       "      <td>101.984676</td>\n",
       "      <td>100.025580</td>\n",
       "      <td>94.261947</td>\n",
       "      <td>94.056749</td>\n",
       "      <td>100.094128</td>\n",
       "      <td>87.950338</td>\n",
       "      <td>100.890627</td>\n",
       "      <td>99.973633</td>\n",
       "      <td>105.398792</td>\n",
       "      <td>104.329551</td>\n",
       "      <td>...</td>\n",
       "      <td>101.632596</td>\n",
       "      <td>94.790835</td>\n",
       "      <td>92.532154</td>\n",
       "      <td>103.106141</td>\n",
       "      <td>106.987991</td>\n",
       "      <td>102.793290</td>\n",
       "      <td>95.160643</td>\n",
       "      <td>101.470813</td>\n",
       "      <td>98.533846</td>\n",
       "      <td>94.485652</td>\n",
       "    </tr>\n",
       "    <tr>\n",
       "      <th>96</th>\n",
       "      <td>93.866717</td>\n",
       "      <td>93.721014</td>\n",
       "      <td>102.239878</td>\n",
       "      <td>101.073822</td>\n",
       "      <td>96.109292</td>\n",
       "      <td>102.031718</td>\n",
       "      <td>97.092712</td>\n",
       "      <td>98.920634</td>\n",
       "      <td>98.904716</td>\n",
       "      <td>104.124409</td>\n",
       "      <td>...</td>\n",
       "      <td>101.497341</td>\n",
       "      <td>98.561699</td>\n",
       "      <td>97.781205</td>\n",
       "      <td>101.363484</td>\n",
       "      <td>96.820657</td>\n",
       "      <td>102.163243</td>\n",
       "      <td>92.395325</td>\n",
       "      <td>97.737510</td>\n",
       "      <td>98.935617</td>\n",
       "      <td>96.897073</td>\n",
       "    </tr>\n",
       "    <tr>\n",
       "      <th>97</th>\n",
       "      <td>102.006992</td>\n",
       "      <td>94.508173</td>\n",
       "      <td>103.080094</td>\n",
       "      <td>98.409040</td>\n",
       "      <td>101.836109</td>\n",
       "      <td>98.128857</td>\n",
       "      <td>104.392405</td>\n",
       "      <td>106.092538</td>\n",
       "      <td>97.396205</td>\n",
       "      <td>97.712709</td>\n",
       "      <td>...</td>\n",
       "      <td>105.497727</td>\n",
       "      <td>101.424685</td>\n",
       "      <td>97.250885</td>\n",
       "      <td>95.206362</td>\n",
       "      <td>104.131866</td>\n",
       "      <td>97.685591</td>\n",
       "      <td>101.921450</td>\n",
       "      <td>103.129901</td>\n",
       "      <td>96.653727</td>\n",
       "      <td>96.505445</td>\n",
       "    </tr>\n",
       "    <tr>\n",
       "      <th>98</th>\n",
       "      <td>106.432946</td>\n",
       "      <td>99.488362</td>\n",
       "      <td>93.608773</td>\n",
       "      <td>108.776008</td>\n",
       "      <td>102.813062</td>\n",
       "      <td>101.186213</td>\n",
       "      <td>101.308212</td>\n",
       "      <td>100.018961</td>\n",
       "      <td>103.627234</td>\n",
       "      <td>93.213998</td>\n",
       "      <td>...</td>\n",
       "      <td>105.119644</td>\n",
       "      <td>100.760661</td>\n",
       "      <td>93.028465</td>\n",
       "      <td>106.056831</td>\n",
       "      <td>106.967254</td>\n",
       "      <td>108.017633</td>\n",
       "      <td>102.278466</td>\n",
       "      <td>97.366717</td>\n",
       "      <td>99.792166</td>\n",
       "      <td>103.679567</td>\n",
       "    </tr>\n",
       "    <tr>\n",
       "      <th>99</th>\n",
       "      <td>107.325705</td>\n",
       "      <td>102.540795</td>\n",
       "      <td>91.155183</td>\n",
       "      <td>94.683796</td>\n",
       "      <td>101.049028</td>\n",
       "      <td>102.000799</td>\n",
       "      <td>102.786341</td>\n",
       "      <td>98.819647</td>\n",
       "      <td>95.823005</td>\n",
       "      <td>106.216540</td>\n",
       "      <td>...</td>\n",
       "      <td>106.008729</td>\n",
       "      <td>105.315914</td>\n",
       "      <td>102.981631</td>\n",
       "      <td>95.440009</td>\n",
       "      <td>100.879483</td>\n",
       "      <td>102.407846</td>\n",
       "      <td>95.206838</td>\n",
       "      <td>106.331874</td>\n",
       "      <td>95.164051</td>\n",
       "      <td>95.047991</td>\n",
       "    </tr>\n",
       "  </tbody>\n",
       "</table>\n",
       "<p>100 rows × 2500 columns</p>\n",
       "</div>"
      ],
      "text/plain": [
       "            v1          v2          v3          v4          v5          v6  \\\n",
       "0   109.346524   98.864382   98.854941  106.361168  103.233653   95.905034   \n",
       "1   106.782951   99.716838   95.677757  105.271772   98.251121   97.645341   \n",
       "2   103.319667   98.351196  100.213168  101.092822  100.187335   91.282619   \n",
       "3   101.650750   95.480414  101.221428  102.343642  100.061816   95.624485   \n",
       "4   101.508250  101.471996   94.218396  105.037956  110.733559   99.634088   \n",
       "..         ...         ...         ...         ...         ...         ...   \n",
       "95  101.984676  100.025580   94.261947   94.056749  100.094128   87.950338   \n",
       "96   93.866717   93.721014  102.239878  101.073822   96.109292  102.031718   \n",
       "97  102.006992   94.508173  103.080094   98.409040  101.836109   98.128857   \n",
       "98  106.432946   99.488362   93.608773  108.776008  102.813062  101.186213   \n",
       "99  107.325705  102.540795   91.155183   94.683796  101.049028  102.000799   \n",
       "\n",
       "            v7          v8          v9         v10  ...       v2491  \\\n",
       "0    97.339547  100.100782   98.204057  102.280419  ...   94.417280   \n",
       "1    99.492320   99.215457   92.805547  108.682413  ...  103.364145   \n",
       "2   101.029010  100.680091  101.474114   95.929302  ...  107.068202   \n",
       "3    99.297520   94.346182   98.533589   98.800851  ...   96.216165   \n",
       "4   106.002096  101.121975  105.182480  101.886388  ...  107.363133   \n",
       "..         ...         ...         ...         ...  ...         ...   \n",
       "95  100.890627   99.973633  105.398792  104.329551  ...  101.632596   \n",
       "96   97.092712   98.920634   98.904716  104.124409  ...  101.497341   \n",
       "97  104.392405  106.092538   97.396205   97.712709  ...  105.497727   \n",
       "98  101.308212  100.018961  103.627234   93.213998  ...  105.119644   \n",
       "99  102.786341   98.819647   95.823005  106.216540  ...  106.008729   \n",
       "\n",
       "         v2492       v2493       v2494       v2495       v2496       v2497  \\\n",
       "0    98.129579   96.972278  101.627405   93.283697  103.017637  104.859635   \n",
       "1   100.704078   94.805105  102.552144   98.778840  101.165801  101.690978   \n",
       "2   104.971241   99.441941  103.278453   95.368250   98.637475  102.077637   \n",
       "3    97.823687  100.713216   92.779619  105.116232   95.970241  106.100909   \n",
       "4    98.413016  100.775565   96.342666  100.253835  108.483790   96.968930   \n",
       "..         ...         ...         ...         ...         ...         ...   \n",
       "95   94.790835   92.532154  103.106141  106.987991  102.793290   95.160643   \n",
       "96   98.561699   97.781205  101.363484   96.820657  102.163243   92.395325   \n",
       "97  101.424685   97.250885   95.206362  104.131866   97.685591  101.921450   \n",
       "98  100.760661   93.028465  106.056831  106.967254  108.017633  102.278466   \n",
       "99  105.315914  102.981631   95.440009  100.879483  102.407846   95.206838   \n",
       "\n",
       "         v2498       v2499       v2500  \n",
       "0   101.639887   99.857288  113.651005  \n",
       "1   107.326094   99.569645  103.522712  \n",
       "2   104.938617   99.697484  100.266613  \n",
       "3    99.694004  101.489625   90.050010  \n",
       "4    99.395984  100.219964   96.356837  \n",
       "..         ...         ...         ...  \n",
       "95  101.470813   98.533846   94.485652  \n",
       "96   97.737510   98.935617   96.897073  \n",
       "97  103.129901   96.653727   96.505445  \n",
       "98   97.366717   99.792166  103.679567  \n",
       "99  106.331874   95.164051   95.047991  \n",
       "\n",
       "[100 rows x 2500 columns]"
      ]
     },
     "execution_count": 5,
     "metadata": {},
     "output_type": "execute_result"
    }
   ],
   "source": [
    "BOLD_P0Q0R1 = pd.read_csv('Data/Simulations/BOLD_P0Q0R1.csv')\n",
    "BOLD_P0Q0R1"
   ]
  },
  {
   "cell_type": "markdown",
   "metadata": {},
   "source": [
    "#### SNR of the BOLD Data"
   ]
  },
  {
   "cell_type": "markdown",
   "metadata": {},
   "source": [
    "The Signal-to-Noise Ratio ranges from $6$ to $10$ in $P,Q = 0$."
   ]
  },
  {
   "cell_type": "code",
   "execution_count": 6,
   "metadata": {},
   "outputs": [
    {
     "data": {
      "image/png": "[encoded data removed]",
      "text/plain": [
       "<Figure size 640x480 with 2 Axes>"
      ]
     },
     "metadata": {},
     "output_type": "display_data"
    }
   ],
   "source": [
    "SNR_IM = []\n",
    "for c in BOLD.columns:\n",
    "    s1 = BOLD[c].values\n",
    "    s2 = BOLD_P0Q0R1[c].values\n",
    "    SNR_IM.append(fmriu.SNR(s2,s1))\n",
    "SNR_IM = np.array(SNR_IM)\n",
    "\n",
    "fmriu.plotImage(SNR_IM,50)"
   ]
  },
  {
   "cell_type": "markdown",
   "metadata": {},
   "source": [
    "The Signal-to-Noise Ratio ranges from $1$ to $6$ in $P,Q = 3$."
   ]
  },
  {
   "cell_type": "code",
   "execution_count": 7,
   "metadata": {},
   "outputs": [
    {
     "data": {
      "image/png": "[encoded data removed]",
      "text/plain": [
       "<Figure size 640x480 with 2 Axes>"
      ]
     },
     "metadata": {},
     "output_type": "display_data"
    }
   ],
   "source": [
    "BOLD_P1Q1R1 = pd.read_csv('Data/Simulations/BOLD_P1Q1R1.csv')\n",
    "\n",
    "SNR_IM = []\n",
    "for c in BOLD.columns:\n",
    "    s1 = BOLD[c].values\n",
    "    s2 = BOLD_P1Q1R1[c].values\n",
    "    SNR_IM.append(fmriu.SNR(s2,s1))\n",
    "SNR_IM = np.array(SNR_IM)\n",
    "\n",
    "fmriu.plotImage(SNR_IM,50)"
   ]
  },
  {
   "cell_type": "markdown",
   "metadata": {},
   "source": [
    "#### CNR of the BOLD Data"
   ]
  },
  {
   "cell_type": "markdown",
   "metadata": {},
   "source": [
    "The Contrast-to-Noise Ratio ranges from $6$ to $10$ in $P,Q = 0$."
   ]
  },
  {
   "cell_type": "code",
   "execution_count": 8,
   "metadata": {},
   "outputs": [
    {
     "data": {
      "image/png": "[encoded data removed]",
      "text/plain": [
       "<Figure size 640x480 with 2 Axes>"
      ]
     },
     "metadata": {},
     "output_type": "display_data"
    }
   ],
   "source": [
    "CNR_IM = []\n",
    "for c in BOLD.columns:\n",
    "    s1 = BOLD[c].values\n",
    "    s2 = BOLD_P0Q0R1[c].values\n",
    "    CNR_IM.append(fmriu.CNR(s2,s1))\n",
    "CNR_IM = np.array(CNR_IM)\n",
    "\n",
    "fmriu.plotImage(CNR_IM,50)"
   ]
  },
  {
   "cell_type": "markdown",
   "metadata": {},
   "source": [
    "The Signal-to-Noise Ratio ranges from $1$ to $6$ in $P,Q = 3$."
   ]
  },
  {
   "cell_type": "code",
   "execution_count": 9,
   "metadata": {},
   "outputs": [
    {
     "data": {
      "image/png": "[encoded data removed]",
      "text/plain": [
       "<Figure size 640x480 with 2 Axes>"
      ]
     },
     "metadata": {},
     "output_type": "display_data"
    }
   ],
   "source": [
    "BOLD_P1Q1R1 = pd.read_csv('Data/Simulations/BOLD_P1Q1R1.csv')\n",
    "\n",
    "CNR_IM = []\n",
    "for c in BOLD.columns:\n",
    "    s1 = BOLD[c].values\n",
    "    s2 = BOLD_P1Q1R1[c].values\n",
    "    CNR_IM.append(fmriu.CNR(s2,s1))\n",
    "CNR_IM = np.array(CNR_IM)\n",
    "\n",
    "fmriu.plotImage(CNR_IM,50)"
   ]
  },
  {
   "cell_type": "markdown",
   "metadata": {},
   "source": [
    "## Bayesian Model"
   ]
  },
  {
   "cell_type": "markdown",
   "metadata": {},
   "source": [
    "The Bayesian Model takes the BOLD data with noise of each run and the design matrix in order to estimate the values of the $\\beta$ vectors a $1000$ times. Then, a frequency probability is calculated to obtain the probability of having the first element of the vector greather than $0$. All this process is done for each voxel, obtaining then a probability map that can be interpreted as the probability of having the voxels activated. See an example below.\n",
    "\n",
    "All the procedures explained in this section are done by the `bayesianModel.py` Script."
   ]
  },
  {
   "cell_type": "code",
   "execution_count": 35,
   "metadata": {},
   "outputs": [
    {
     "data": {
      "image/png": "[encoded data removed]",
      "text/plain": [
       "<Figure size 640x480 with 2 Axes>"
      ]
     },
     "metadata": {},
     "output_type": "display_data"
    }
   ],
   "source": [
    "stProb_P0Q0 = pd.read_csv('Data/Simulations/pMap_P0Q0.csv',index_col=0)\n",
    "r1_stProb_P0Q0 = stProb_P0Q0.loc[0].values\n",
    "\n",
    "fmriu.plotImage(r1_stProb_P0Q0,50)"
   ]
  },
  {
   "cell_type": "markdown",
   "metadata": {},
   "source": [
    "## Threesholding and Smoothing"
   ]
  },
  {
   "cell_type": "markdown",
   "metadata": {},
   "source": [
    "The threesholding and smoothing algorithm takes the probability map obtained in each run and at the same time eliminates the noise of the map and generates a threeshold probability that indicates whether each voxel is truly activated or not. The algorithm uses the Jaccard index of the generated images to terminate. The results are stored in four files for each run, these are:\n",
    "\n",
    "- `Zeta_PxQyRz.npy`: Contains the activation map in each iteration\n",
    "- `eta_PxQyRz.npy`: Contains the threeshold value in each iteration\n",
    "- `N_PxQyRz.npy`: Contains the number of inactive voxels in each iteration\n",
    "- `X_PxQyRz.npy`: Contains the probability maps in each iteration\n",
    "\n",
    "See an example of the results below.\n",
    "\n",
    "All the procedures explained in this section are done by the `th_sm.py` Script."
   ]
  },
  {
   "cell_type": "markdown",
   "metadata": {},
   "source": [
    "### Last activation map"
   ]
  },
  {
   "cell_type": "code",
   "execution_count": 36,
   "metadata": {},
   "outputs": [
    {
     "data": {
      "image/png": "[encoded data removed]",
      "text/plain": [
       "<Figure size 640x480 with 2 Axes>"
      ]
     },
     "metadata": {},
     "output_type": "display_data"
    }
   ],
   "source": [
    "Zeta_P0Q0R1 = np.load('Data/Simulations/Zeta_P0Q0R1.npy')\n",
    "fmriu.plotImage(Zeta_P0Q0R1[3],50)"
   ]
  },
  {
   "cell_type": "code",
   "execution_count": 43,
   "metadata": {},
   "outputs": [
    {
     "data": {
      "text/plain": [
       "(0.5928304000000002, 0.1813249343361305)"
      ]
     },
     "execution_count": 43,
     "metadata": {},
     "output_type": "execute_result"
    }
   ],
   "source": [
    "X_P0Q0R1[3].mean(),X_P0Q0R1[3].std()"
   ]
  },
  {
   "cell_type": "markdown",
   "metadata": {},
   "source": [
    "### Threeshold values"
   ]
  },
  {
   "cell_type": "code",
   "execution_count": 37,
   "metadata": {},
   "outputs": [
    {
     "data": {
      "text/plain": [
       "array([0.91380004, 0.9134473 , 0.83444298])"
      ]
     },
     "execution_count": 37,
     "metadata": {},
     "output_type": "execute_result"
    }
   ],
   "source": [
    "eta_P0Q0R1 = np.load('Data/Simulations/eta_P0Q0R1.npy')\n",
    "eta_P0Q0R1"
   ]
  },
  {
   "cell_type": "markdown",
   "metadata": {},
   "source": [
    "### Number of inactive voxels in each iteration"
   ]
  },
  {
   "cell_type": "code",
   "execution_count": 38,
   "metadata": {},
   "outputs": [
    {
     "data": {
      "text/plain": [
       "array([2500, 1896, 1896, 1893])"
      ]
     },
     "execution_count": 38,
     "metadata": {},
     "output_type": "execute_result"
    }
   ],
   "source": [
    "N_P0Q0R1 = np.load('Data/Simulations/N_P0Q0R1.npy')\n",
    "N_P0Q0R1"
   ]
  },
  {
   "cell_type": "markdown",
   "metadata": {},
   "source": [
    "### Last Probability Map"
   ]
  },
  {
   "cell_type": "code",
   "execution_count": 39,
   "metadata": {},
   "outputs": [
    {
     "data": {
      "image/png": "[encoded data removed]",
      "text/plain": [
       "<Figure size 640x480 with 2 Axes>"
      ]
     },
     "metadata": {},
     "output_type": "display_data"
    }
   ],
   "source": [
    "X_P0Q0R1 = np.load('Data/Simulations/X_P0Q0R1.npy')\n",
    "fmriu.plotImage(X_P0Q0R1[3],50)"
   ]
  },
  {
   "cell_type": "markdown",
   "metadata": {},
   "source": [
    "## Other Results"
   ]
  },
  {
   "cell_type": "markdown",
   "metadata": {},
   "source": [
    "The Jaccard Index between the original image and the final probability map can be easily calculated"
   ]
  },
  {
   "cell_type": "code",
   "execution_count": 40,
   "metadata": {},
   "outputs": [
    {
     "data": {
      "text/plain": [
       "0.6952224052718287"
      ]
     },
     "execution_count": 40,
     "metadata": {},
     "output_type": "execute_result"
    }
   ],
   "source": [
    "import fMRIUtils as fmriu\n",
    "fmriu.jaccardIndex(Zeta_P0Q0R1[3],b)"
   ]
  },
  {
   "cell_type": "markdown",
   "metadata": {},
   "source": [
    "# Other Things"
   ]
  },
  {
   "cell_type": "code",
   "execution_count": 7,
   "metadata": {},
   "outputs": [
    {
     "name": "stdout",
     "output_type": "stream",
     "text": [
      "no activation\n"
     ]
    }
   ],
   "source": [
    "import scipy as sp\n",
    "import fMRIUtils as fmriu\n",
    "import numpy as np\n",
    "from scipy.optimize import fsolve\n",
    "import pandas as pd\n",
    "\n",
    "path = 'Data/'\n",
    "fn_res = path + 'Simulations/stProb_P0Q0.csv'\n",
    "\n",
    "df_res = pd.read_csv(fn_res,index_col=0)\n",
    "pMap = df_res.loc[0].values\n",
    "\n",
    "dim = 200\n",
    "\n",
    "def f(bn):\n",
    "    n = 40000\n",
    "    return(np.abs(1/n-(np.exp(-(bn**2)/2))/(bn*(2*np.pi)**(0.5))))\n",
    "\n",
    "Xi = pMap.copy()\n",
    "## Step 1. Initialization\n",
    "X = [Xi] # Initialization of X with Xi\n",
    "n = len(Xi) # Number of voxels to consider\n",
    "Zeta = [np.zeros(n)] # Initialize Zeta with an array of n zeros\n",
    "N = [n] # Initialize N with n (all voxels inactive)\n",
    "eta = [] # Initialize eta as an empty array\n",
    "k = 0 # Iteration marker\n",
    "t = 0 # Termination flag\n",
    "S = np.arange(0.25,2.50,0.25)\n",
    "\n",
    "while not(t) and k < 5:\n",
    "    ## Step 2. MLE of X[k] *** Can change to find scale using average of st dev of image ***\n",
    "    A,B,loc,scale = sp.stats.truncnorm.fit(X[k],fa=0,fb=1)\n",
    "\n",
    "    ## Step 3. Apply gaussian smoothing to obtain X[k+1]\n",
    "    s = S[k] # Value of sigma increases exponentially with iterations\n",
    "    # The images are reshaped for the gaussian filter and then flattened agai.\n",
    "    X.append(sp.ndimage.gaussian_filter(np.reshape(X[k], (-1, dim)),sigma=s).flatten())\n",
    "\n",
    "    ## Step 4. Calculate threeshold\n",
    "    # Get rho\n",
    "    #rho = var_rho([200,200],[s,s]) # *** Change: Calculate using TRF of first row ***\n",
    "    rho = 1\n",
    "    # Get bn - Using values obtained in Step 2\n",
    "    #bn = rho*sp.stats.truncnorm.ppf(1-1/n,A,B,loc,scale)\n",
    "    # Get an - Using values obtained in Step 2\n",
    "    #an = rho/(n*sp.stats.truncnorm.pdf(bn/rho,A,B,loc,scale))\n",
    "    bn = fsolve(f,1)[0]\n",
    "    an = 1/bn\n",
    "    # Get i - Fitting image to Gumbel distribution and taking upper tail value\n",
    "    locg,scaleg = sp.stats.gumbel_r.fit(X[k])\n",
    "    i = sp.stats.gumbel_r.ppf(0.95,locg,scaleg)\n",
    "    # Append threeshold to eta array\n",
    "    eta.append(an*i+bn)\n",
    "    ## Step 5. Generate activation maps\n",
    "    # If voxel is activated, it stays activated (logical or)\n",
    "    # and if probability values are greater than threeshold,\n",
    "    # voxels get activated.\n",
    "    Zeta.append(np.logical_or(X[k+1]>eta[k],Zeta[k]))\n",
    "\n",
    "    ## Step 6. Termination\n",
    "    # A. If no activation detected in first iteration, terminate.\n",
    "    ni = n-sum(Zeta[k+1]) # Number of inactive voxels\n",
    "    if k == 0 and ni == n:\n",
    "        t = 1\n",
    "        print('no activation')\n",
    "        R = [np.array(Zeta), np.array(N), np.array(eta), np.array(X)]\n",
    "    else:\n",
    "        # If activation is detected, append the number of inactive voxels to N\n",
    "        N.append(ni) \n",
    "        # B. If Jaccard Index decreases in two successive iterations, terminate.\n",
    "        if k>=2:\n",
    "            J_1 = fmriu.jaccardIndex(Zeta[k-2],Zeta[k-1])\n",
    "            J_2 = fmriu.jaccardIndex(Zeta[k-1],Zeta[k])\n",
    "            if J_1 >= J_2:\n",
    "                t = 1\n",
    "                print('termination by Jaccard Index')\n",
    "                # Eliminate the last values of the list because the Jaccard Index descreased.\n",
    "                Zeta.pop()\n",
    "                N.pop()\n",
    "                eta.pop()\n",
    "                X.pop()\n",
    "                R = [np.array(Zeta), np.array(N), np.array(eta), np.array(X)]\n",
    "        # Increase iteration marker\n",
    "        k += 1\n",
    "    R = [np.array(Zeta), np.array(N), np.array(eta), np.array(X)]"
   ]
  },
  {
   "cell_type": "code",
   "execution_count": 24,
   "metadata": {},
   "outputs": [
    {
     "data": {
      "text/plain": [
       "[array([[0., 0., 0., ..., 0., 0., 0.],\n",
       "        [0., 0., 0., ..., 0., 0., 0.]]),\n",
       " array([40000]),\n",
       " array([4.40061521]),\n",
       " array([[0.688     , 0.187     , 0.786     , ..., 0.224     , 0.887     ,\n",
       "         0.457     ],\n",
       "        [0.6879309 , 0.18734459, 0.78559381, ..., 0.22430137, 0.88657496,\n",
       "         0.45708817]])]"
      ]
     },
     "execution_count": 24,
     "metadata": {},
     "output_type": "execute_result"
    }
   ],
   "source": [
    "R"
   ]
  }
 ],
 "metadata": {
  "kernelspec": {
   "display_name": "Python 3.11.5 64-bit",
   "language": "python",
   "name": "python3"
  },
  "language_info": {
   "codemirror_mode": {
    "name": "ipython",
    "version": 3
   },
   "file_extension": ".py",
   "mimetype": "text/x-python",
   "name": "python",
   "nbconvert_exporter": "python",
   "pygments_lexer": "ipython3",
   "version": "3.11.5"
  },
  "orig_nbformat": 4,
  "vscode": {
   "interpreter": {
    "hash": "b0fa6594d8f4cbf19f97940f81e996739fb7646882a419484c72d19e05852a7e"
   }
  }
 },
 "nbformat": 4,
 "nbformat_minor": 2
}
