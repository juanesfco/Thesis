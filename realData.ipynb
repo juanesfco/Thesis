{
 "cells": [
  {
   "cell_type": "code",
   "execution_count": 5,
   "metadata": {},
   "outputs": [
    {
     "data": {
      "text/plain": [
       "<nibabel.nifti1.Nifti1Image at 0x10d5b3bd0>"
      ]
     },
     "execution_count": 5,
     "metadata": {},
     "output_type": "execute_result"
    }
   ],
   "source": [
    "import nibabel as nib\n",
    "BOLD = nib.load('Data/sub-01_task-theoryofmindwithmanualresponse_run-01_bold.nii.gz')\n",
    "BOLD"
   ]
  },
  {
   "cell_type": "code",
   "execution_count": 6,
   "metadata": {},
   "outputs": [
    {
     "data": {
      "text/plain": [
       "<nilearn.plotting.displays._slicers.OrthoSlicer at 0x1673757d0>"
      ]
     },
     "execution_count": 6,
     "metadata": {},
     "output_type": "execute_result"
    },
    {
     "data": {
      "image/png": "[encoded data removed]",
      "text/plain": [
       "<Figure size 660x260 with 4 Axes>"
      ]
     },
     "metadata": {},
     "output_type": "display_data"
    }
   ],
   "source": [
    "from nilearn.masking import compute_epi_mask\n",
    "from nilearn.plotting import plot_roi\n",
    "from nilearn.image.image import mean_img\n",
    "mean_haxby = mean_img(BOLD)\n",
    "mask_img = compute_epi_mask(BOLD, connected=False)\n",
    "plot_roi(mask_img,mean_haxby)"
   ]
  },
  {
   "cell_type": "code",
   "execution_count": 7,
   "metadata": {},
   "outputs": [
    {
     "data": {
      "text/plain": [
       "(179, 40078)"
      ]
     },
     "execution_count": 7,
     "metadata": {},
     "output_type": "execute_result"
    }
   ],
   "source": [
    "from nilearn.masking import apply_mask\n",
    "masked_data = apply_mask(BOLD, mask_img)\n",
    "masked_data.shape"
   ]
  },
  {
   "cell_type": "code",
   "execution_count": 36,
   "metadata": {},
   "outputs": [],
   "source": [
    "np.save('Data/BOLD_Masked.npy',masked_data)"
   ]
  },
  {
   "cell_type": "code",
   "execution_count": 111,
   "metadata": {},
   "outputs": [
    {
     "data": {
      "text/html": [
       "<div>\n",
       "<style scoped>\n",
       "    .dataframe tbody tr th:only-of-type {\n",
       "        vertical-align: middle;\n",
       "    }\n",
       "\n",
       "    .dataframe tbody tr th {\n",
       "        vertical-align: top;\n",
       "    }\n",
       "\n",
       "    .dataframe thead th {\n",
       "        text-align: right;\n",
       "    }\n",
       "</style>\n",
       "<table border=\"1\" class=\"dataframe\">\n",
       "  <thead>\n",
       "    <tr style=\"text-align: right;\">\n",
       "      <th></th>\n",
       "      <th>onset</th>\n",
       "      <th>duration</th>\n",
       "      <th>trial_type</th>\n",
       "      <th>ConditionCode</th>\n",
       "      <th>CorrectAnswerCode</th>\n",
       "      <th>KeyPressed</th>\n",
       "      <th>ResponseTime</th>\n",
       "      <th>StoryCode</th>\n",
       "    </tr>\n",
       "  </thead>\n",
       "  <tbody>\n",
       "    <tr>\n",
       "      <th>0</th>\n",
       "      <td>0.0</td>\n",
       "      <td>2.0</td>\n",
       "      <td>NaN</td>\n",
       "      <td>0.0</td>\n",
       "      <td>0.0</td>\n",
       "      <td>46.0</td>\n",
       "      <td>1.980</td>\n",
       "      <td>0.0</td>\n",
       "    </tr>\n",
       "    <tr>\n",
       "      <th>1</th>\n",
       "      <td>2.0</td>\n",
       "      <td>2.0</td>\n",
       "      <td>NaN</td>\n",
       "      <td>0.0</td>\n",
       "      <td>0.0</td>\n",
       "      <td>46.0</td>\n",
       "      <td>1.992</td>\n",
       "      <td>0.0</td>\n",
       "    </tr>\n",
       "    <tr>\n",
       "      <th>2</th>\n",
       "      <td>4.0</td>\n",
       "      <td>2.0</td>\n",
       "      <td>NaN</td>\n",
       "      <td>0.0</td>\n",
       "      <td>0.0</td>\n",
       "      <td>46.0</td>\n",
       "      <td>1.994</td>\n",
       "      <td>0.0</td>\n",
       "    </tr>\n",
       "    <tr>\n",
       "      <th>3</th>\n",
       "      <td>6.0</td>\n",
       "      <td>2.0</td>\n",
       "      <td>NaN</td>\n",
       "      <td>0.0</td>\n",
       "      <td>0.0</td>\n",
       "      <td>46.0</td>\n",
       "      <td>1.994</td>\n",
       "      <td>0.0</td>\n",
       "    </tr>\n",
       "    <tr>\n",
       "      <th>4</th>\n",
       "      <td>8.0</td>\n",
       "      <td>2.0</td>\n",
       "      <td>NaN</td>\n",
       "      <td>0.0</td>\n",
       "      <td>0.0</td>\n",
       "      <td>46.0</td>\n",
       "      <td>1.993</td>\n",
       "      <td>0.0</td>\n",
       "    </tr>\n",
       "    <tr>\n",
       "      <th>...</th>\n",
       "      <td>...</td>\n",
       "      <td>...</td>\n",
       "      <td>...</td>\n",
       "      <td>...</td>\n",
       "      <td>...</td>\n",
       "      <td>...</td>\n",
       "      <td>...</td>\n",
       "      <td>...</td>\n",
       "    </tr>\n",
       "    <tr>\n",
       "      <th>198</th>\n",
       "      <td>348.0</td>\n",
       "      <td>2.0</td>\n",
       "      <td>NaN</td>\n",
       "      <td>0.0</td>\n",
       "      <td>0.0</td>\n",
       "      <td>46.0</td>\n",
       "      <td>1.985</td>\n",
       "      <td>0.0</td>\n",
       "    </tr>\n",
       "    <tr>\n",
       "      <th>199</th>\n",
       "      <td>350.0</td>\n",
       "      <td>2.0</td>\n",
       "      <td>NaN</td>\n",
       "      <td>0.0</td>\n",
       "      <td>0.0</td>\n",
       "      <td>46.0</td>\n",
       "      <td>1.993</td>\n",
       "      <td>0.0</td>\n",
       "    </tr>\n",
       "    <tr>\n",
       "      <th>200</th>\n",
       "      <td>352.0</td>\n",
       "      <td>2.0</td>\n",
       "      <td>NaN</td>\n",
       "      <td>0.0</td>\n",
       "      <td>0.0</td>\n",
       "      <td>46.0</td>\n",
       "      <td>2.003</td>\n",
       "      <td>0.0</td>\n",
       "    </tr>\n",
       "    <tr>\n",
       "      <th>201</th>\n",
       "      <td>354.0</td>\n",
       "      <td>2.0</td>\n",
       "      <td>NaN</td>\n",
       "      <td>0.0</td>\n",
       "      <td>0.0</td>\n",
       "      <td>46.0</td>\n",
       "      <td>1.995</td>\n",
       "      <td>0.0</td>\n",
       "    </tr>\n",
       "    <tr>\n",
       "      <th>202</th>\n",
       "      <td>356.0</td>\n",
       "      <td>2.0</td>\n",
       "      <td>NaN</td>\n",
       "      <td>0.0</td>\n",
       "      <td>0.0</td>\n",
       "      <td>NaN</td>\n",
       "      <td>2.050</td>\n",
       "      <td>0.0</td>\n",
       "    </tr>\n",
       "  </tbody>\n",
       "</table>\n",
       "<p>203 rows × 8 columns</p>\n",
       "</div>"
      ],
      "text/plain": [
       "     onset  duration trial_type  ConditionCode  CorrectAnswerCode  KeyPressed  \\\n",
       "0      0.0       2.0        NaN            0.0                0.0        46.0   \n",
       "1      2.0       2.0        NaN            0.0                0.0        46.0   \n",
       "2      4.0       2.0        NaN            0.0                0.0        46.0   \n",
       "3      6.0       2.0        NaN            0.0                0.0        46.0   \n",
       "4      8.0       2.0        NaN            0.0                0.0        46.0   \n",
       "..     ...       ...        ...            ...                ...         ...   \n",
       "198  348.0       2.0        NaN            0.0                0.0        46.0   \n",
       "199  350.0       2.0        NaN            0.0                0.0        46.0   \n",
       "200  352.0       2.0        NaN            0.0                0.0        46.0   \n",
       "201  354.0       2.0        NaN            0.0                0.0        46.0   \n",
       "202  356.0       2.0        NaN            0.0                0.0         NaN   \n",
       "\n",
       "     ResponseTime  StoryCode  \n",
       "0           1.980        0.0  \n",
       "1           1.992        0.0  \n",
       "2           1.994        0.0  \n",
       "3           1.994        0.0  \n",
       "4           1.993        0.0  \n",
       "..            ...        ...  \n",
       "198         1.985        0.0  \n",
       "199         1.993        0.0  \n",
       "200         2.003        0.0  \n",
       "201         1.995        0.0  \n",
       "202         2.050        0.0  \n",
       "\n",
       "[203 rows x 8 columns]"
      ]
     },
     "execution_count": 111,
     "metadata": {},
     "output_type": "execute_result"
    }
   ],
   "source": [
    "import pandas as pd\n",
    "\n",
    "df_events1 = pd.read_csv('Data/sub-01_task-theoryofmindwithmanualresponse_run-01_events.tsv',sep='\\t')\n",
    "df_events1"
   ]
  },
  {
   "cell_type": "code",
   "execution_count": 112,
   "metadata": {},
   "outputs": [
    {
     "data": {
      "text/html": [
       "<div>\n",
       "<style scoped>\n",
       "    .dataframe tbody tr th:only-of-type {\n",
       "        vertical-align: middle;\n",
       "    }\n",
       "\n",
       "    .dataframe tbody tr th {\n",
       "        vertical-align: top;\n",
       "    }\n",
       "\n",
       "    .dataframe thead th {\n",
       "        text-align: right;\n",
       "    }\n",
       "</style>\n",
       "<table border=\"1\" class=\"dataframe\">\n",
       "  <thead>\n",
       "    <tr style=\"text-align: right;\">\n",
       "      <th></th>\n",
       "      <th>onset</th>\n",
       "      <th>duration</th>\n",
       "      <th>trial_type</th>\n",
       "      <th>ConditionCode</th>\n",
       "      <th>CorrectAnswerCode</th>\n",
       "      <th>KeyPressed</th>\n",
       "      <th>ResponseTime</th>\n",
       "      <th>StoryCode</th>\n",
       "    </tr>\n",
       "  </thead>\n",
       "  <tbody>\n",
       "    <tr>\n",
       "      <th>0</th>\n",
       "      <td>0.0</td>\n",
       "      <td>2.0</td>\n",
       "      <td>NaN</td>\n",
       "      <td>0.0</td>\n",
       "      <td>0.0</td>\n",
       "      <td>46.0</td>\n",
       "      <td>1.980</td>\n",
       "      <td>0.0</td>\n",
       "    </tr>\n",
       "    <tr>\n",
       "      <th>1</th>\n",
       "      <td>2.0</td>\n",
       "      <td>2.0</td>\n",
       "      <td>NaN</td>\n",
       "      <td>0.0</td>\n",
       "      <td>0.0</td>\n",
       "      <td>46.0</td>\n",
       "      <td>1.992</td>\n",
       "      <td>0.0</td>\n",
       "    </tr>\n",
       "    <tr>\n",
       "      <th>2</th>\n",
       "      <td>4.0</td>\n",
       "      <td>2.0</td>\n",
       "      <td>NaN</td>\n",
       "      <td>0.0</td>\n",
       "      <td>0.0</td>\n",
       "      <td>46.0</td>\n",
       "      <td>1.994</td>\n",
       "      <td>0.0</td>\n",
       "    </tr>\n",
       "    <tr>\n",
       "      <th>3</th>\n",
       "      <td>6.0</td>\n",
       "      <td>2.0</td>\n",
       "      <td>NaN</td>\n",
       "      <td>0.0</td>\n",
       "      <td>0.0</td>\n",
       "      <td>46.0</td>\n",
       "      <td>1.994</td>\n",
       "      <td>0.0</td>\n",
       "    </tr>\n",
       "    <tr>\n",
       "      <th>4</th>\n",
       "      <td>8.0</td>\n",
       "      <td>2.0</td>\n",
       "      <td>NaN</td>\n",
       "      <td>0.0</td>\n",
       "      <td>0.0</td>\n",
       "      <td>46.0</td>\n",
       "      <td>1.993</td>\n",
       "      <td>0.0</td>\n",
       "    </tr>\n",
       "    <tr>\n",
       "      <th>...</th>\n",
       "      <td>...</td>\n",
       "      <td>...</td>\n",
       "      <td>...</td>\n",
       "      <td>...</td>\n",
       "      <td>...</td>\n",
       "      <td>...</td>\n",
       "      <td>...</td>\n",
       "      <td>...</td>\n",
       "    </tr>\n",
       "    <tr>\n",
       "      <th>174</th>\n",
       "      <td>348.0</td>\n",
       "      <td>2.0</td>\n",
       "      <td>NaN</td>\n",
       "      <td>0.0</td>\n",
       "      <td>0.0</td>\n",
       "      <td>46.0</td>\n",
       "      <td>1.985</td>\n",
       "      <td>0.0</td>\n",
       "    </tr>\n",
       "    <tr>\n",
       "      <th>175</th>\n",
       "      <td>350.0</td>\n",
       "      <td>2.0</td>\n",
       "      <td>NaN</td>\n",
       "      <td>0.0</td>\n",
       "      <td>0.0</td>\n",
       "      <td>46.0</td>\n",
       "      <td>1.993</td>\n",
       "      <td>0.0</td>\n",
       "    </tr>\n",
       "    <tr>\n",
       "      <th>176</th>\n",
       "      <td>352.0</td>\n",
       "      <td>2.0</td>\n",
       "      <td>NaN</td>\n",
       "      <td>0.0</td>\n",
       "      <td>0.0</td>\n",
       "      <td>46.0</td>\n",
       "      <td>2.003</td>\n",
       "      <td>0.0</td>\n",
       "    </tr>\n",
       "    <tr>\n",
       "      <th>177</th>\n",
       "      <td>354.0</td>\n",
       "      <td>2.0</td>\n",
       "      <td>NaN</td>\n",
       "      <td>0.0</td>\n",
       "      <td>0.0</td>\n",
       "      <td>46.0</td>\n",
       "      <td>1.995</td>\n",
       "      <td>0.0</td>\n",
       "    </tr>\n",
       "    <tr>\n",
       "      <th>178</th>\n",
       "      <td>356.0</td>\n",
       "      <td>2.0</td>\n",
       "      <td>NaN</td>\n",
       "      <td>0.0</td>\n",
       "      <td>0.0</td>\n",
       "      <td>NaN</td>\n",
       "      <td>2.050</td>\n",
       "      <td>0.0</td>\n",
       "    </tr>\n",
       "  </tbody>\n",
       "</table>\n",
       "<p>179 rows × 8 columns</p>\n",
       "</div>"
      ],
      "text/plain": [
       "     onset  duration trial_type  ConditionCode  CorrectAnswerCode  KeyPressed  \\\n",
       "0      0.0       2.0        NaN            0.0                0.0        46.0   \n",
       "1      2.0       2.0        NaN            0.0                0.0        46.0   \n",
       "2      4.0       2.0        NaN            0.0                0.0        46.0   \n",
       "3      6.0       2.0        NaN            0.0                0.0        46.0   \n",
       "4      8.0       2.0        NaN            0.0                0.0        46.0   \n",
       "..     ...       ...        ...            ...                ...         ...   \n",
       "174  348.0       2.0        NaN            0.0                0.0        46.0   \n",
       "175  350.0       2.0        NaN            0.0                0.0        46.0   \n",
       "176  352.0       2.0        NaN            0.0                0.0        46.0   \n",
       "177  354.0       2.0        NaN            0.0                0.0        46.0   \n",
       "178  356.0       2.0        NaN            0.0                0.0         NaN   \n",
       "\n",
       "     ResponseTime  StoryCode  \n",
       "0           1.980        0.0  \n",
       "1           1.992        0.0  \n",
       "2           1.994        0.0  \n",
       "3           1.994        0.0  \n",
       "4           1.993        0.0  \n",
       "..            ...        ...  \n",
       "174         1.985        0.0  \n",
       "175         1.993        0.0  \n",
       "176         2.003        0.0  \n",
       "177         1.995        0.0  \n",
       "178         2.050        0.0  \n",
       "\n",
       "[179 rows x 8 columns]"
      ]
     },
     "execution_count": 112,
     "metadata": {},
     "output_type": "execute_result"
    }
   ],
   "source": [
    "stim_ev1 = df_events1[df_events1['trial_type'].notnull()]\n",
    "df_ev1 = df_events1[df_events1['trial_type'].isnull()].reset_index(drop=True)\n",
    "for r in range(len(stim_ev1)):\n",
    "  df_ev1.at[int(stim_ev1.iloc[r,0]/2),'duration'] = stim_ev1.iloc[r,:]['duration']\n",
    "  df_ev1.at[int(stim_ev1.iloc[r,0]/2),'trial_type'] = stim_ev1.iloc[r,:]['trial_type']\n",
    "\n",
    "df_ev1"
   ]
  },
  {
   "cell_type": "code",
   "execution_count": 115,
   "metadata": {},
   "outputs": [],
   "source": [
    "df_ev1['trial_type'].unique()\n",
    "df_ev1['trial_type'].replace(['false belief question','false belief story','false photo question','false photo story'],['stimulus1','stimulus2','stimulus3','stimulus4'],inplace=True)"
   ]
  },
  {
   "cell_type": "code",
   "execution_count": 116,
   "metadata": {},
   "outputs": [
    {
     "name": "stderr",
     "output_type": "stream",
     "text": [
      "/opt/homebrew/lib/python3.11/site-packages/nilearn/glm/first_level/experimental_paradigm.py:120: UserWarning: Duplicated events were detected. Amplitudes of these events will be summed. You might want to verify your inputs.\n",
      "  warnings.warn(\n"
     ]
    },
    {
     "data": {
      "text/plain": [
       "<Axes: label='conditions', ylabel='scan number'>"
      ]
     },
     "execution_count": 116,
     "metadata": {},
     "output_type": "execute_result"
    },
    {
     "data": {
      "image/png": "[encoded data removed]",
      "text/plain": [
       "<Figure size 800x600 with 1 Axes>"
      ]
     },
     "metadata": {},
     "output_type": "display_data"
    }
   ],
   "source": [
    "import numpy as np\n",
    "from nilearn.glm.first_level import make_first_level_design_matrix\n",
    "from nilearn.plotting import plot_design_matrix\n",
    "import matplotlib.pyplot as plt\n",
    "\n",
    "tr = 2.0  # repetition time is 2 seconds\n",
    "n_scans = 179  # the acquisition comprises 179 scans\n",
    "frame_times = np.arange(n_scans) * tr\n",
    "\n",
    "conditions = df_ev1['trial_type']\n",
    "duration = df_ev1['duration']\n",
    "onsets = df_ev1['onset']\n",
    "\n",
    "events = pd.DataFrame({'trial_type': conditions, 'onset': onsets, 'duration': duration})\n",
    "\n",
    "X1 = make_first_level_design_matrix(frame_times, events)\n",
    "\n",
    "fig, ax = plt.subplots(figsize=(8, 6))\n",
    "plot_design_matrix(X1, ax=ax)"
   ]
  },
  {
   "cell_type": "code",
   "execution_count": 32,
   "metadata": {},
   "outputs": [],
   "source": [
    "import bayesianModel as bM\n",
    "pMap = []\n",
    "for v in range(len(masked_data[0])):\n",
    "    BOLDv = masked_data[:,v][np.newaxis].T\n",
    "    b = bM.betas(X1.values,BOLDv)\n",
    "    pMap.append(sum(b[:,0]>0)/1000)"
   ]
  },
  {
   "cell_type": "code",
   "execution_count": 37,
   "metadata": {},
   "outputs": [],
   "source": [
    "pMap = np.array(pMap)"
   ]
  },
  {
   "cell_type": "code",
   "execution_count": 45,
   "metadata": {},
   "outputs": [
    {
     "data": {
      "text/plain": [
       "array([[0.933, 0.965, 0.99 , ..., 0.059, 0.01 , 0.268]])"
      ]
     },
     "execution_count": 45,
     "metadata": {},
     "output_type": "execute_result"
    }
   ],
   "source": [
    "pMap = pMap[np.newaxis]\n",
    "pMap"
   ]
  },
  {
   "cell_type": "code",
   "execution_count": 10,
   "metadata": {},
   "outputs": [],
   "source": [
    "import numpy as np\n",
    "#np.save('Data/pMap.npy',pMap)\n",
    "pMap = np.load('Data/pMap.npy')"
   ]
  },
  {
   "cell_type": "code",
   "execution_count": 11,
   "metadata": {},
   "outputs": [
    {
     "data": {
      "text/plain": [
       "<nibabel.nifti1.Nifti1Image at 0x167147810>"
      ]
     },
     "execution_count": 11,
     "metadata": {},
     "output_type": "execute_result"
    }
   ],
   "source": [
    "from nilearn.masking import unmask\n",
    "pMap_UM = unmask(pMap[0],mask_img)\n",
    "pMap_UM"
   ]
  },
  {
   "cell_type": "code",
   "execution_count": 13,
   "metadata": {},
   "outputs": [
    {
     "data": {
      "text/plain": [
       "(-0.5, 35.5, 71.5, -0.5)"
      ]
     },
     "execution_count": 13,
     "metadata": {},
     "output_type": "execute_result"
    },
    {
     "data": {
      "image/png": "[encoded data removed]",
      "text/plain": [
       "<Figure size 640x480 with 1 Axes>"
      ]
     },
     "metadata": {},
     "output_type": "display_data"
    }
   ],
   "source": [
    "import matplotlib.pyplot as plt\n",
    "plt.imshow(pMap_UM.get_fdata()[36,:,:])\n",
    "plt.axis('off')"
   ]
  },
  {
   "cell_type": "code",
   "execution_count": 8,
   "metadata": {},
   "outputs": [],
   "source": [
    "from nilearn.image import new_img_like\n",
    "NIFTI = new_img_like(pMap_UM, pMap_UM.get_fdata())"
   ]
  },
  {
   "cell_type": "code",
   "execution_count": 9,
   "metadata": {},
   "outputs": [
    {
     "data": {
      "text/plain": [
       "<nibabel.nifti1.Nifti1Image at 0x2824e2b50>"
      ]
     },
     "execution_count": 9,
     "metadata": {},
     "output_type": "execute_result"
    }
   ],
   "source": [
    "NIFTI"
   ]
  },
  {
   "cell_type": "code",
   "execution_count": 10,
   "metadata": {},
   "outputs": [
    {
     "data": {
      "text/plain": [
       "array([0.933, 0.965, 0.99 , ..., 0.059, 0.01 , 0.268])"
      ]
     },
     "execution_count": 10,
     "metadata": {},
     "output_type": "execute_result"
    }
   ],
   "source": [
    "from nilearn.masking import apply_mask\n",
    "apply_mask(NIFTI,mask_img)"
   ]
  },
  {
   "cell_type": "code",
   "execution_count": 11,
   "metadata": {},
   "outputs": [
    {
     "name": "stdout",
     "output_type": "stream",
     "text": [
      "Termination by Jaccard Index in  6  iterations.\n"
     ]
    }
   ],
   "source": [
    "import th_sm as thSM\n",
    "Z,N,e,X = thSM.th_sm(pMap[0],mask_img)"
   ]
  },
  {
   "cell_type": "code",
   "execution_count": 2,
   "metadata": {},
   "outputs": [],
   "source": [
    "import numpy as np\n",
    "#np.save('Data/Zeta.npy',Z)\n",
    "#np.save('Data/N.npy',N)\n",
    "#np.save('Data/eta.npy',e)\n",
    "#np.save('Data/X.npy',X)\n",
    "\n",
    "Z = np.load('Data/Zeta.npy')\n",
    "N = np.load('Data/N.npy')\n",
    "e = np.load('Data/eta.npy')\n",
    "X = np.load('Data/X.npy')"
   ]
  },
  {
   "cell_type": "code",
   "execution_count": 15,
   "metadata": {},
   "outputs": [],
   "source": [
    "import matplotlib\n",
    "def plot(IMG1,IMG2,i,x=-1,y=-1,z=-1):\n",
    "    UM1 = unmask(IMG1[i],mask_img)\n",
    "    UM2 = unmask(IMG2[i],mask_img)\n",
    "    if x*y == 1:\n",
    "        cmap1 = matplotlib.colors.ListedColormap(['none', 'yellow'])\n",
    "        #im1 = plt.imshow(UM2.get_fdata()[:,:,z], cmap=cmap1)\n",
    "        #im2 = plt.imshow(UM1.get_fdata()[:,:,z], cmap='gray')\n",
    "        im2 = plt.imshow(UM1.get_fdata()[:,:,z])\n",
    "        plt.axis('off')\n",
    "        plt.show()\n",
    "    elif y*z == 1:\n",
    "        cmap1 = matplotlib.colors.ListedColormap(['none', 'yellow'])\n",
    "        plt.imshow(UM1.get_fdata()[x,:,:], cmap=cmap1)\n",
    "        plt.axis('off')\n",
    "    elif x*z == 1:\n",
    "        plt.imshow(UM1.get_fdata()[:,y,:])\n",
    "        plt.axis('off')\n",
    "    else:\n",
    "        pass"
   ]
  },
  {
   "cell_type": "code",
   "execution_count": 17,
   "metadata": {},
   "outputs": [
    {
     "data": {
      "image/png": "[encoded data removed]",
      "text/plain": [
       "<Figure size 640x480 with 1 Axes>"
      ]
     },
     "metadata": {},
     "output_type": "display_data"
    }
   ],
   "source": [
    "plot(masked_data,Z,0,z=18)"
   ]
  },
  {
   "cell_type": "code",
   "execution_count": 98,
   "metadata": {},
   "outputs": [
    {
     "data": {
      "image/png": "[encoded data removed]",
      "text/plain": [
       "<Figure size 640x480 with 1 Axes>"
      ]
     },
     "metadata": {},
     "output_type": "display_data"
    }
   ],
   "source": [
    "plot(Z,6,x=36)"
   ]
  },
  {
   "cell_type": "code",
   "execution_count": 48,
   "metadata": {},
   "outputs": [
    {
     "data": {
      "text/plain": [
       "0.13361445181895304"
      ]
     },
     "execution_count": 48,
     "metadata": {},
     "output_type": "execute_result"
    }
   ],
   "source": [
    "sum(Z[6])/len(Z[6])"
   ]
  }
 ],
 "metadata": {
  "kernelspec": {
   "display_name": "Python 3.11.5 64-bit",
   "language": "python",
   "name": "python3"
  },
  "language_info": {
   "codemirror_mode": {
    "name": "ipython",
    "version": 3
   },
   "file_extension": ".py",
   "mimetype": "text/x-python",
   "name": "python",
   "nbconvert_exporter": "python",
   "pygments_lexer": "ipython3",
   "version": "3.11.5"
  },
  "orig_nbformat": 4,
  "vscode": {
   "interpreter": {
    "hash": "b0fa6594d8f4cbf19f97940f81e996739fb7646882a419484c72d19e05852a7e"
   }
  }
 },
 "nbformat": 4,
 "nbformat_minor": 2
}
